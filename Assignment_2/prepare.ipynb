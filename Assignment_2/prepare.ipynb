{
 "cells": [
  {
   "cell_type": "markdown",
   "metadata": {},
   "source": [
    "# Applied Machine Learning\n",
    "**Assignment 2**<br>\n",
    "Shubhangi Sanyal (MDS202238)\n"
   ]
  },
  {
   "cell_type": "markdown",
   "metadata": {},
   "source": [
    "## Data version control"
   ]
  },
  {
   "cell_type": "code",
   "execution_count": 36,
   "metadata": {},
   "outputs": [
    {
     "name": "stdout",
     "output_type": "stream",
     "text": [
      "C:\\Users\\shubh\\Downloads\\AML_Ass2\\Applied_ML\\Assignment_2\n"
     ]
    }
   ],
   "source": [
    "%cd C:\\Users\\shubh\\Downloads\\AML_Ass2\\Applied_ML\\Assignment_2"
   ]
  },
  {
   "cell_type": "code",
   "execution_count": 30,
   "metadata": {},
   "outputs": [
    {
     "name": "stdout",
     "output_type": "stream",
     "text": [
      "Initialized DVC repository.\n",
      "\n",
      "You can now commit the changes to git.\n",
      "\n",
      "+---------------------------------------------------------------------+\n",
      "|                                                                     |\n",
      "|        DVC has enabled anonymous aggregate usage analytics.         |\n",
      "|     Read the analytics documentation (and how to opt-out) here:     |\n",
      "|             <https://dvc.org/doc/user-guide/analytics>              |\n",
      "|                                                                     |\n",
      "+---------------------------------------------------------------------+\n",
      "\n",
      "What's next?\n",
      "------------\n",
      "- Check out the documentation: <https://dvc.org/doc>\n",
      "- Get help and share ideas: <https://dvc.org/chat>\n",
      "- Star us on GitHub: <https://github.com/iterative/dvc>\n"
     ]
    }
   ],
   "source": [
    "! dvc init --subdir"
   ]
  },
  {
   "cell_type": "code",
   "execution_count": 31,
   "metadata": {},
   "outputs": [
    {
     "name": "stdout",
     "output_type": "stream",
     "text": [
      "Requirement already satisfied: dvc[gdrive] in c:\\users\\shubh\\appdata\\local\\packages\\pythonsoftwarefoundation.python.3.11_qbz5n2kfra8p0\\localcache\\local-packages\\python311\\site-packages (3.45.0)\n",
      "Requirement already satisfied: colorama>=0.3.9 in c:\\users\\shubh\\appdata\\local\\packages\\pythonsoftwarefoundation.python.3.11_qbz5n2kfra8p0\\localcache\\local-packages\\python311\\site-packages (from dvc[gdrive]) (0.4.6)\n",
      "Requirement already satisfied: configobj>=5.0.6 in c:\\users\\shubh\\appdata\\local\\packages\\pythonsoftwarefoundation.python.3.11_qbz5n2kfra8p0\\localcache\\local-packages\\python311\\site-packages (from dvc[gdrive]) (5.0.8)\n",
      "Requirement already satisfied: distro>=1.3 in c:\\users\\shubh\\appdata\\local\\packages\\pythonsoftwarefoundation.python.3.11_qbz5n2kfra8p0\\localcache\\local-packages\\python311\\site-packages (from dvc[gdrive]) (1.9.0)\n",
      "Requirement already satisfied: dpath<3,>=2.1.0 in c:\\users\\shubh\\appdata\\local\\packages\\pythonsoftwarefoundation.python.3.11_qbz5n2kfra8p0\\localcache\\local-packages\\python311\\site-packages (from dvc[gdrive]) (2.1.6)\n",
      "Requirement already satisfied: dvc-data<3.14,>=3.13 in c:\\users\\shubh\\appdata\\local\\packages\\pythonsoftwarefoundation.python.3.11_qbz5n2kfra8p0\\localcache\\local-packages\\python311\\site-packages (from dvc[gdrive]) (3.13.0)\n",
      "Requirement already satisfied: dvc-http>=2.29.0 in c:\\users\\shubh\\appdata\\local\\packages\\pythonsoftwarefoundation.python.3.11_qbz5n2kfra8p0\\localcache\\local-packages\\python311\\site-packages (from dvc[gdrive]) (2.32.0)\n",
      "Requirement already satisfied: dvc-render<2,>=1.0.1 in c:\\users\\shubh\\appdata\\local\\packages\\pythonsoftwarefoundation.python.3.11_qbz5n2kfra8p0\\localcache\\local-packages\\python311\\site-packages (from dvc[gdrive]) (1.0.1)\n",
      "Requirement already satisfied: dvc-studio-client<1,>=0.19 in c:\\users\\shubh\\appdata\\local\\packages\\pythonsoftwarefoundation.python.3.11_qbz5n2kfra8p0\\localcache\\local-packages\\python311\\site-packages (from dvc[gdrive]) (0.20.0)\n",
      "Requirement already satisfied: dvc-task<1,>=0.3.0 in c:\\users\\shubh\\appdata\\local\\packages\\pythonsoftwarefoundation.python.3.11_qbz5n2kfra8p0\\localcache\\local-packages\\python311\\site-packages (from dvc[gdrive]) (0.3.0)\n",
      "Requirement already satisfied: flatten-dict<1,>=0.4.1 in c:\\users\\shubh\\appdata\\local\\packages\\pythonsoftwarefoundation.python.3.11_qbz5n2kfra8p0\\localcache\\local-packages\\python311\\site-packages (from dvc[gdrive]) (0.4.2)\n",
      "Requirement already satisfied: flufl.lock<8,>=5 in c:\\users\\shubh\\appdata\\local\\packages\\pythonsoftwarefoundation.python.3.11_qbz5n2kfra8p0\\localcache\\local-packages\\python311\\site-packages (from dvc[gdrive]) (7.1.1)\n",
      "Requirement already satisfied: funcy>=1.14 in c:\\users\\shubh\\appdata\\local\\packages\\pythonsoftwarefoundation.python.3.11_qbz5n2kfra8p0\\localcache\\local-packages\\python311\\site-packages (from dvc[gdrive]) (2.0)\n",
      "Requirement already satisfied: grandalf<1,>=0.7 in c:\\users\\shubh\\appdata\\local\\packages\\pythonsoftwarefoundation.python.3.11_qbz5n2kfra8p0\\localcache\\local-packages\\python311\\site-packages (from dvc[gdrive]) (0.8)\n",
      "Requirement already satisfied: gto<2,>=1.6.0 in c:\\users\\shubh\\appdata\\local\\packages\\pythonsoftwarefoundation.python.3.11_qbz5n2kfra8p0\\localcache\\local-packages\\python311\\site-packages (from dvc[gdrive]) (1.7.0)\n",
      "Requirement already satisfied: hydra-core>=1.1 in c:\\users\\shubh\\appdata\\local\\packages\\pythonsoftwarefoundation.python.3.11_qbz5n2kfra8p0\\localcache\\local-packages\\python311\\site-packages (from dvc[gdrive]) (1.3.2)\n",
      "Requirement already satisfied: iterative-telemetry>=0.0.7 in c:\\users\\shubh\\appdata\\local\\packages\\pythonsoftwarefoundation.python.3.11_qbz5n2kfra8p0\\localcache\\local-packages\\python311\\site-packages (from dvc[gdrive]) (0.0.8)\n",
      "Requirement already satisfied: networkx>=2.5 in c:\\users\\shubh\\appdata\\local\\packages\\pythonsoftwarefoundation.python.3.11_qbz5n2kfra8p0\\localcache\\local-packages\\python311\\site-packages (from dvc[gdrive]) (3.2.1)\n",
      "Requirement already satisfied: packaging>=19 in c:\\users\\shubh\\appdata\\local\\packages\\pythonsoftwarefoundation.python.3.11_qbz5n2kfra8p0\\localcache\\local-packages\\python311\\site-packages (from dvc[gdrive]) (23.2)\n",
      "Requirement already satisfied: pathspec>=0.10.3 in c:\\users\\shubh\\appdata\\local\\packages\\pythonsoftwarefoundation.python.3.11_qbz5n2kfra8p0\\localcache\\local-packages\\python311\\site-packages (from dvc[gdrive]) (0.12.1)\n",
      "Requirement already satisfied: platformdirs<4,>=3.1.1 in c:\\users\\shubh\\appdata\\local\\packages\\pythonsoftwarefoundation.python.3.11_qbz5n2kfra8p0\\localcache\\local-packages\\python311\\site-packages (from dvc[gdrive]) (3.10.0)\n",
      "Requirement already satisfied: psutil>=5.8 in c:\\users\\shubh\\appdata\\local\\packages\\pythonsoftwarefoundation.python.3.11_qbz5n2kfra8p0\\localcache\\local-packages\\python311\\site-packages (from dvc[gdrive]) (5.9.5)\n",
      "Requirement already satisfied: pydot>=1.2.4 in c:\\users\\shubh\\appdata\\local\\packages\\pythonsoftwarefoundation.python.3.11_qbz5n2kfra8p0\\localcache\\local-packages\\python311\\site-packages (from dvc[gdrive]) (2.0.0)\n",
      "Requirement already satisfied: pygtrie>=2.3.2 in c:\\users\\shubh\\appdata\\local\\packages\\pythonsoftwarefoundation.python.3.11_qbz5n2kfra8p0\\localcache\\local-packages\\python311\\site-packages (from dvc[gdrive]) (2.5.0)\n",
      "Requirement already satisfied: pyparsing>=2.4.7 in c:\\users\\shubh\\appdata\\local\\packages\\pythonsoftwarefoundation.python.3.11_qbz5n2kfra8p0\\localcache\\local-packages\\python311\\site-packages (from dvc[gdrive]) (3.1.1)\n",
      "Requirement already satisfied: requests>=2.22 in c:\\users\\shubh\\appdata\\local\\packages\\pythonsoftwarefoundation.python.3.11_qbz5n2kfra8p0\\localcache\\local-packages\\python311\\site-packages (from dvc[gdrive]) (2.31.0)\n",
      "Requirement already satisfied: rich>=12 in c:\\users\\shubh\\appdata\\local\\packages\\pythonsoftwarefoundation.python.3.11_qbz5n2kfra8p0\\localcache\\local-packages\\python311\\site-packages (from dvc[gdrive]) (13.7.0)\n",
      "Requirement already satisfied: ruamel.yaml>=0.17.11 in c:\\users\\shubh\\appdata\\local\\packages\\pythonsoftwarefoundation.python.3.11_qbz5n2kfra8p0\\localcache\\local-packages\\python311\\site-packages (from dvc[gdrive]) (0.18.6)\n",
      "Requirement already satisfied: scmrepo<4,>=3 in c:\\users\\shubh\\appdata\\local\\packages\\pythonsoftwarefoundation.python.3.11_qbz5n2kfra8p0\\localcache\\local-packages\\python311\\site-packages (from dvc[gdrive]) (3.1.0)\n",
      "Requirement already satisfied: shortuuid>=0.5 in c:\\users\\shubh\\appdata\\local\\packages\\pythonsoftwarefoundation.python.3.11_qbz5n2kfra8p0\\localcache\\local-packages\\python311\\site-packages (from dvc[gdrive]) (1.0.11)\n",
      "Requirement already satisfied: shtab<2,>=1.3.4 in c:\\users\\shubh\\appdata\\local\\packages\\pythonsoftwarefoundation.python.3.11_qbz5n2kfra8p0\\localcache\\local-packages\\python311\\site-packages (from dvc[gdrive]) (1.6.5)\n",
      "Requirement already satisfied: tabulate>=0.8.7 in c:\\users\\shubh\\appdata\\local\\packages\\pythonsoftwarefoundation.python.3.11_qbz5n2kfra8p0\\localcache\\local-packages\\python311\\site-packages (from dvc[gdrive]) (0.9.0)\n",
      "Requirement already satisfied: tomlkit>=0.11.1 in c:\\users\\shubh\\appdata\\local\\packages\\pythonsoftwarefoundation.python.3.11_qbz5n2kfra8p0\\localcache\\local-packages\\python311\\site-packages (from dvc[gdrive]) (0.12.3)\n",
      "Requirement already satisfied: tqdm<5,>=4.63.1 in c:\\users\\shubh\\appdata\\local\\packages\\pythonsoftwarefoundation.python.3.11_qbz5n2kfra8p0\\localcache\\local-packages\\python311\\site-packages (from dvc[gdrive]) (4.66.1)\n",
      "Requirement already satisfied: voluptuous>=0.11.7 in c:\\users\\shubh\\appdata\\local\\packages\\pythonsoftwarefoundation.python.3.11_qbz5n2kfra8p0\\localcache\\local-packages\\python311\\site-packages (from dvc[gdrive]) (0.14.2)\n",
      "Requirement already satisfied: zc.lockfile>=1.2.1 in c:\\users\\shubh\\appdata\\local\\packages\\pythonsoftwarefoundation.python.3.11_qbz5n2kfra8p0\\localcache\\local-packages\\python311\\site-packages (from dvc[gdrive]) (3.0.post1)\n",
      "Collecting dvc-gdrive<4,>=3 (from dvc[gdrive])\n",
      "  Downloading dvc_gdrive-3.0.1-py3-none-any.whl.metadata (2.1 kB)\n",
      "Requirement already satisfied: six in c:\\users\\shubh\\appdata\\local\\packages\\pythonsoftwarefoundation.python.3.11_qbz5n2kfra8p0\\localcache\\local-packages\\python311\\site-packages (from configobj>=5.0.6->dvc[gdrive]) (1.16.0)\n",
      "Requirement already satisfied: dictdiffer>=0.8.1 in c:\\users\\shubh\\appdata\\local\\packages\\pythonsoftwarefoundation.python.3.11_qbz5n2kfra8p0\\localcache\\local-packages\\python311\\site-packages (from dvc-data<3.14,>=3.13->dvc[gdrive]) (0.9.0)\n",
      "Requirement already satisfied: dvc-objects<6,>=4.0.1 in c:\\users\\shubh\\appdata\\local\\packages\\pythonsoftwarefoundation.python.3.11_qbz5n2kfra8p0\\localcache\\local-packages\\python311\\site-packages (from dvc-data<3.14,>=3.13->dvc[gdrive]) (5.0.0)\n",
      "Requirement already satisfied: fsspec>=2024.2.0 in c:\\users\\shubh\\appdata\\local\\packages\\pythonsoftwarefoundation.python.3.11_qbz5n2kfra8p0\\localcache\\local-packages\\python311\\site-packages (from dvc-data<3.14,>=3.13->dvc[gdrive]) (2024.2.0)\n",
      "Requirement already satisfied: diskcache>=5.2.1 in c:\\users\\shubh\\appdata\\local\\packages\\pythonsoftwarefoundation.python.3.11_qbz5n2kfra8p0\\localcache\\local-packages\\python311\\site-packages (from dvc-data<3.14,>=3.13->dvc[gdrive]) (5.6.3)\n",
      "Requirement already satisfied: attrs>=21.3.0 in c:\\users\\shubh\\appdata\\local\\packages\\pythonsoftwarefoundation.python.3.11_qbz5n2kfra8p0\\localcache\\local-packages\\python311\\site-packages (from dvc-data<3.14,>=3.13->dvc[gdrive]) (23.2.0)\n",
      "Requirement already satisfied: sqltrie<1,>=0.11.0 in c:\\users\\shubh\\appdata\\local\\packages\\pythonsoftwarefoundation.python.3.11_qbz5n2kfra8p0\\localcache\\local-packages\\python311\\site-packages (from dvc-data<3.14,>=3.13->dvc[gdrive]) (0.11.0)\n",
      "Collecting pydrive2>=1.19.0 (from pydrive2[fsspec]>=1.19.0->dvc-gdrive<4,>=3->dvc[gdrive])\n",
      "  Downloading PyDrive2-1.19.0-py3-none-any.whl.metadata (6.7 kB)\n",
      "Requirement already satisfied: aiohttp-retry>=2.5.0 in c:\\users\\shubh\\appdata\\local\\packages\\pythonsoftwarefoundation.python.3.11_qbz5n2kfra8p0\\localcache\\local-packages\\python311\\site-packages (from dvc-http>=2.29.0->dvc[gdrive]) (2.8.3)\n",
      "Requirement already satisfied: dulwich in c:\\users\\shubh\\appdata\\local\\packages\\pythonsoftwarefoundation.python.3.11_qbz5n2kfra8p0\\localcache\\local-packages\\python311\\site-packages (from dvc-studio-client<1,>=0.19->dvc[gdrive]) (0.21.7)\n",
      "Requirement already satisfied: celery<6,>=5.3.0 in c:\\users\\shubh\\appdata\\local\\packages\\pythonsoftwarefoundation.python.3.11_qbz5n2kfra8p0\\localcache\\local-packages\\python311\\site-packages (from dvc-task<1,>=0.3.0->dvc[gdrive]) (5.3.6)\n",
      "Requirement already satisfied: kombu<6,>=5.3.0 in c:\\users\\shubh\\appdata\\local\\packages\\pythonsoftwarefoundation.python.3.11_qbz5n2kfra8p0\\localcache\\local-packages\\python311\\site-packages (from dvc-task<1,>=0.3.0->dvc[gdrive]) (5.3.5)\n",
      "Requirement already satisfied: pywin32>=225 in c:\\users\\shubh\\appdata\\local\\packages\\pythonsoftwarefoundation.python.3.11_qbz5n2kfra8p0\\localcache\\local-packages\\python311\\site-packages (from dvc-task<1,>=0.3.0->dvc[gdrive]) (306)\n",
      "Requirement already satisfied: atpublic>=2.3 in c:\\users\\shubh\\appdata\\local\\packages\\pythonsoftwarefoundation.python.3.11_qbz5n2kfra8p0\\localcache\\local-packages\\python311\\site-packages (from flufl.lock<8,>=5->dvc[gdrive]) (4.0)\n",
      "Requirement already satisfied: typer>=0.4.1 in c:\\users\\shubh\\appdata\\local\\packages\\pythonsoftwarefoundation.python.3.11_qbz5n2kfra8p0\\localcache\\local-packages\\python311\\site-packages (from gto<2,>=1.6.0->dvc[gdrive]) (0.9.0)\n",
      "Requirement already satisfied: pydantic!=2.0.0,<3,>=1.9.0 in c:\\users\\shubh\\appdata\\local\\packages\\pythonsoftwarefoundation.python.3.11_qbz5n2kfra8p0\\localcache\\local-packages\\python311\\site-packages (from gto<2,>=1.6.0->dvc[gdrive]) (2.6.1)\n",
      "Requirement already satisfied: semver>=3.0.0 in c:\\users\\shubh\\appdata\\local\\packages\\pythonsoftwarefoundation.python.3.11_qbz5n2kfra8p0\\localcache\\local-packages\\python311\\site-packages (from gto<2,>=1.6.0->dvc[gdrive]) (3.0.2)\n",
      "Requirement already satisfied: entrypoints in c:\\users\\shubh\\appdata\\local\\packages\\pythonsoftwarefoundation.python.3.11_qbz5n2kfra8p0\\localcache\\local-packages\\python311\\site-packages (from gto<2,>=1.6.0->dvc[gdrive]) (0.4)\n",
      "Requirement already satisfied: omegaconf<2.4,>=2.2 in c:\\users\\shubh\\appdata\\local\\packages\\pythonsoftwarefoundation.python.3.11_qbz5n2kfra8p0\\localcache\\local-packages\\python311\\site-packages (from hydra-core>=1.1->dvc[gdrive]) (2.3.0)\n",
      "Requirement already satisfied: antlr4-python3-runtime==4.9.* in c:\\users\\shubh\\appdata\\local\\packages\\pythonsoftwarefoundation.python.3.11_qbz5n2kfra8p0\\localcache\\local-packages\\python311\\site-packages (from hydra-core>=1.1->dvc[gdrive]) (4.9.3)\n",
      "Requirement already satisfied: appdirs in c:\\users\\shubh\\appdata\\local\\packages\\pythonsoftwarefoundation.python.3.11_qbz5n2kfra8p0\\localcache\\local-packages\\python311\\site-packages (from iterative-telemetry>=0.0.7->dvc[gdrive]) (1.4.4)\n",
      "Requirement already satisfied: filelock in c:\\users\\shubh\\appdata\\local\\packages\\pythonsoftwarefoundation.python.3.11_qbz5n2kfra8p0\\localcache\\local-packages\\python311\\site-packages (from iterative-telemetry>=0.0.7->dvc[gdrive]) (3.13.1)\n",
      "Requirement already satisfied: charset-normalizer<4,>=2 in c:\\users\\shubh\\appdata\\local\\packages\\pythonsoftwarefoundation.python.3.11_qbz5n2kfra8p0\\localcache\\local-packages\\python311\\site-packages (from requests>=2.22->dvc[gdrive]) (3.3.2)\n",
      "Requirement already satisfied: idna<4,>=2.5 in c:\\users\\shubh\\appdata\\local\\packages\\pythonsoftwarefoundation.python.3.11_qbz5n2kfra8p0\\localcache\\local-packages\\python311\\site-packages (from requests>=2.22->dvc[gdrive]) (3.6)\n",
      "Requirement already satisfied: urllib3<3,>=1.21.1 in c:\\users\\shubh\\appdata\\local\\packages\\pythonsoftwarefoundation.python.3.11_qbz5n2kfra8p0\\localcache\\local-packages\\python311\\site-packages (from requests>=2.22->dvc[gdrive]) (2.2.0)\n",
      "Requirement already satisfied: certifi>=2017.4.17 in c:\\users\\shubh\\appdata\\local\\packages\\pythonsoftwarefoundation.python.3.11_qbz5n2kfra8p0\\localcache\\local-packages\\python311\\site-packages (from requests>=2.22->dvc[gdrive]) (2024.2.2)\n",
      "Requirement already satisfied: markdown-it-py>=2.2.0 in c:\\users\\shubh\\appdata\\local\\packages\\pythonsoftwarefoundation.python.3.11_qbz5n2kfra8p0\\localcache\\local-packages\\python311\\site-packages (from rich>=12->dvc[gdrive]) (3.0.0)\n",
      "Requirement already satisfied: pygments<3.0.0,>=2.13.0 in c:\\users\\shubh\\appdata\\local\\packages\\pythonsoftwarefoundation.python.3.11_qbz5n2kfra8p0\\localcache\\local-packages\\python311\\site-packages (from rich>=12->dvc[gdrive]) (2.16.1)\n",
      "Requirement already satisfied: ruamel.yaml.clib>=0.2.7 in c:\\users\\shubh\\appdata\\local\\packages\\pythonsoftwarefoundation.python.3.11_qbz5n2kfra8p0\\localcache\\local-packages\\python311\\site-packages (from ruamel.yaml>=0.17.11->dvc[gdrive]) (0.2.8)\n",
      "Requirement already satisfied: gitpython>3 in c:\\users\\shubh\\appdata\\local\\packages\\pythonsoftwarefoundation.python.3.11_qbz5n2kfra8p0\\localcache\\local-packages\\python311\\site-packages (from scmrepo<4,>=3->dvc[gdrive]) (3.1.42)\n",
      "Requirement already satisfied: pygit2>=1.14.0 in c:\\users\\shubh\\appdata\\local\\packages\\pythonsoftwarefoundation.python.3.11_qbz5n2kfra8p0\\localcache\\local-packages\\python311\\site-packages (from scmrepo<4,>=3->dvc[gdrive]) (1.14.1)\n",
      "Requirement already satisfied: asyncssh<3,>=2.13.1 in c:\\users\\shubh\\appdata\\local\\packages\\pythonsoftwarefoundation.python.3.11_qbz5n2kfra8p0\\localcache\\local-packages\\python311\\site-packages (from scmrepo<4,>=3->dvc[gdrive]) (2.14.2)\n",
      "Requirement already satisfied: setuptools in c:\\program files\\windowsapps\\pythonsoftwarefoundation.python.3.11_3.11.2288.0_x64__qbz5n2kfra8p0\\lib\\site-packages (from zc.lockfile>=1.2.1->dvc[gdrive]) (65.5.0)\n",
      "Requirement already satisfied: aiohttp in c:\\users\\shubh\\appdata\\local\\packages\\pythonsoftwarefoundation.python.3.11_qbz5n2kfra8p0\\localcache\\local-packages\\python311\\site-packages (from aiohttp-retry>=2.5.0->dvc-http>=2.29.0->dvc[gdrive]) (3.9.3)\n",
      "Requirement already satisfied: cryptography>=39.0 in c:\\users\\shubh\\appdata\\local\\packages\\pythonsoftwarefoundation.python.3.11_qbz5n2kfra8p0\\localcache\\local-packages\\python311\\site-packages (from asyncssh<3,>=2.13.1->scmrepo<4,>=3->dvc[gdrive]) (42.0.3)\n",
      "Requirement already satisfied: typing-extensions>=3.6 in c:\\users\\shubh\\appdata\\local\\packages\\pythonsoftwarefoundation.python.3.11_qbz5n2kfra8p0\\localcache\\local-packages\\python311\\site-packages (from asyncssh<3,>=2.13.1->scmrepo<4,>=3->dvc[gdrive]) (4.9.0)\n",
      "Requirement already satisfied: billiard<5.0,>=4.2.0 in c:\\users\\shubh\\appdata\\local\\packages\\pythonsoftwarefoundation.python.3.11_qbz5n2kfra8p0\\localcache\\local-packages\\python311\\site-packages (from celery<6,>=5.3.0->dvc-task<1,>=0.3.0->dvc[gdrive]) (4.2.0)\n",
      "Requirement already satisfied: click-didyoumean>=0.3.0 in c:\\users\\shubh\\appdata\\local\\packages\\pythonsoftwarefoundation.python.3.11_qbz5n2kfra8p0\\localcache\\local-packages\\python311\\site-packages (from celery<6,>=5.3.0->dvc-task<1,>=0.3.0->dvc[gdrive]) (0.3.0)\n",
      "Requirement already satisfied: click-plugins>=1.1.1 in c:\\users\\shubh\\appdata\\local\\packages\\pythonsoftwarefoundation.python.3.11_qbz5n2kfra8p0\\localcache\\local-packages\\python311\\site-packages (from celery<6,>=5.3.0->dvc-task<1,>=0.3.0->dvc[gdrive]) (1.1.1)\n",
      "Requirement already satisfied: click-repl>=0.2.0 in c:\\users\\shubh\\appdata\\local\\packages\\pythonsoftwarefoundation.python.3.11_qbz5n2kfra8p0\\localcache\\local-packages\\python311\\site-packages (from celery<6,>=5.3.0->dvc-task<1,>=0.3.0->dvc[gdrive]) (0.3.0)\n",
      "Requirement already satisfied: click<9.0,>=8.1.2 in c:\\users\\shubh\\appdata\\local\\packages\\pythonsoftwarefoundation.python.3.11_qbz5n2kfra8p0\\localcache\\local-packages\\python311\\site-packages (from celery<6,>=5.3.0->dvc-task<1,>=0.3.0->dvc[gdrive]) (8.1.7)\n",
      "Requirement already satisfied: python-dateutil>=2.8.2 in c:\\users\\shubh\\appdata\\local\\packages\\pythonsoftwarefoundation.python.3.11_qbz5n2kfra8p0\\localcache\\local-packages\\python311\\site-packages (from celery<6,>=5.3.0->dvc-task<1,>=0.3.0->dvc[gdrive]) (2.8.2)\n",
      "Requirement already satisfied: tzdata>=2022.7 in c:\\users\\shubh\\appdata\\local\\packages\\pythonsoftwarefoundation.python.3.11_qbz5n2kfra8p0\\localcache\\local-packages\\python311\\site-packages (from celery<6,>=5.3.0->dvc-task<1,>=0.3.0->dvc[gdrive]) (2023.3)\n",
      "Requirement already satisfied: vine<6.0,>=5.1.0 in c:\\users\\shubh\\appdata\\local\\packages\\pythonsoftwarefoundation.python.3.11_qbz5n2kfra8p0\\localcache\\local-packages\\python311\\site-packages (from celery<6,>=5.3.0->dvc-task<1,>=0.3.0->dvc[gdrive]) (5.1.0)\n",
      "Requirement already satisfied: gitdb<5,>=4.0.1 in c:\\users\\shubh\\appdata\\local\\packages\\pythonsoftwarefoundation.python.3.11_qbz5n2kfra8p0\\localcache\\local-packages\\python311\\site-packages (from gitpython>3->scmrepo<4,>=3->dvc[gdrive]) (4.0.11)\n",
      "Requirement already satisfied: amqp<6.0.0,>=5.1.1 in c:\\users\\shubh\\appdata\\local\\packages\\pythonsoftwarefoundation.python.3.11_qbz5n2kfra8p0\\localcache\\local-packages\\python311\\site-packages (from kombu<6,>=5.3.0->dvc-task<1,>=0.3.0->dvc[gdrive]) (5.2.0)\n",
      "Requirement already satisfied: mdurl~=0.1 in c:\\users\\shubh\\appdata\\local\\packages\\pythonsoftwarefoundation.python.3.11_qbz5n2kfra8p0\\localcache\\local-packages\\python311\\site-packages (from markdown-it-py>=2.2.0->rich>=12->dvc[gdrive]) (0.1.2)\n",
      "Requirement already satisfied: PyYAML>=5.1.0 in c:\\users\\shubh\\appdata\\local\\packages\\pythonsoftwarefoundation.python.3.11_qbz5n2kfra8p0\\localcache\\local-packages\\python311\\site-packages (from omegaconf<2.4,>=2.2->hydra-core>=1.1->dvc[gdrive]) (6.0.1)\n",
      "Requirement already satisfied: annotated-types>=0.4.0 in c:\\users\\shubh\\appdata\\local\\packages\\pythonsoftwarefoundation.python.3.11_qbz5n2kfra8p0\\localcache\\local-packages\\python311\\site-packages (from pydantic!=2.0.0,<3,>=1.9.0->gto<2,>=1.6.0->dvc[gdrive]) (0.6.0)\n",
      "Requirement already satisfied: pydantic-core==2.16.2 in c:\\users\\shubh\\appdata\\local\\packages\\pythonsoftwarefoundation.python.3.11_qbz5n2kfra8p0\\localcache\\local-packages\\python311\\site-packages (from pydantic!=2.0.0,<3,>=1.9.0->gto<2,>=1.6.0->dvc[gdrive]) (2.16.2)\n",
      "Collecting google-api-python-client>=1.12.5 (from pydrive2>=1.19.0->pydrive2[fsspec]>=1.19.0->dvc-gdrive<4,>=3->dvc[gdrive])\n",
      "  Downloading google_api_python_client-2.118.0-py2.py3-none-any.whl.metadata (6.6 kB)\n",
      "Collecting oauth2client>=4.0.0 (from pydrive2>=1.19.0->pydrive2[fsspec]>=1.19.0->dvc-gdrive<4,>=3->dvc[gdrive])\n",
      "  Downloading oauth2client-4.1.3-py2.py3-none-any.whl (98 kB)\n",
      "     ---------------------------------------- 0.0/98.2 kB ? eta -:--:--\n",
      "     --------------- ---------------------- 41.0/98.2 kB 991.0 kB/s eta 0:00:01\n",
      "     ---------------------------------------- 98.2/98.2 kB 1.9 MB/s eta 0:00:00\n",
      "Collecting pyOpenSSL>=19.1.0 (from pydrive2>=1.19.0->pydrive2[fsspec]>=1.19.0->dvc-gdrive<4,>=3->dvc[gdrive])\n",
      "  Downloading pyOpenSSL-24.0.0-py3-none-any.whl.metadata (12 kB)\n",
      "Requirement already satisfied: cffi>=1.16.0 in c:\\users\\shubh\\appdata\\local\\packages\\pythonsoftwarefoundation.python.3.11_qbz5n2kfra8p0\\localcache\\local-packages\\python311\\site-packages (from pygit2>=1.14.0->scmrepo<4,>=3->dvc[gdrive]) (1.16.0)\n",
      "Requirement already satisfied: orjson in c:\\users\\shubh\\appdata\\local\\packages\\pythonsoftwarefoundation.python.3.11_qbz5n2kfra8p0\\localcache\\local-packages\\python311\\site-packages (from sqltrie<1,>=0.11.0->dvc-data<3.14,>=3.13->dvc[gdrive]) (3.9.14)\n",
      "Requirement already satisfied: aiosignal>=1.1.2 in c:\\users\\shubh\\appdata\\local\\packages\\pythonsoftwarefoundation.python.3.11_qbz5n2kfra8p0\\localcache\\local-packages\\python311\\site-packages (from aiohttp->aiohttp-retry>=2.5.0->dvc-http>=2.29.0->dvc[gdrive]) (1.3.1)\n",
      "Requirement already satisfied: frozenlist>=1.1.1 in c:\\users\\shubh\\appdata\\local\\packages\\pythonsoftwarefoundation.python.3.11_qbz5n2kfra8p0\\localcache\\local-packages\\python311\\site-packages (from aiohttp->aiohttp-retry>=2.5.0->dvc-http>=2.29.0->dvc[gdrive]) (1.4.1)\n",
      "Requirement already satisfied: multidict<7.0,>=4.5 in c:\\users\\shubh\\appdata\\local\\packages\\pythonsoftwarefoundation.python.3.11_qbz5n2kfra8p0\\localcache\\local-packages\\python311\\site-packages (from aiohttp->aiohttp-retry>=2.5.0->dvc-http>=2.29.0->dvc[gdrive]) (6.0.5)\n",
      "Requirement already satisfied: yarl<2.0,>=1.0 in c:\\users\\shubh\\appdata\\local\\packages\\pythonsoftwarefoundation.python.3.11_qbz5n2kfra8p0\\localcache\\local-packages\\python311\\site-packages (from aiohttp->aiohttp-retry>=2.5.0->dvc-http>=2.29.0->dvc[gdrive]) (1.9.4)\n",
      "Requirement already satisfied: pycparser in c:\\users\\shubh\\appdata\\local\\packages\\pythonsoftwarefoundation.python.3.11_qbz5n2kfra8p0\\localcache\\local-packages\\python311\\site-packages (from cffi>=1.16.0->pygit2>=1.14.0->scmrepo<4,>=3->dvc[gdrive]) (2.21)\n",
      "Requirement already satisfied: prompt-toolkit>=3.0.36 in c:\\users\\shubh\\appdata\\local\\packages\\pythonsoftwarefoundation.python.3.11_qbz5n2kfra8p0\\localcache\\local-packages\\python311\\site-packages (from click-repl>=0.2.0->celery<6,>=5.3.0->dvc-task<1,>=0.3.0->dvc[gdrive]) (3.0.39)\n",
      "Requirement already satisfied: smmap<6,>=3.0.1 in c:\\users\\shubh\\appdata\\local\\packages\\pythonsoftwarefoundation.python.3.11_qbz5n2kfra8p0\\localcache\\local-packages\\python311\\site-packages (from gitdb<5,>=4.0.1->gitpython>3->scmrepo<4,>=3->dvc[gdrive]) (5.0.1)\n",
      "Collecting httplib2<1.dev0,>=0.15.0 (from google-api-python-client>=1.12.5->pydrive2>=1.19.0->pydrive2[fsspec]>=1.19.0->dvc-gdrive<4,>=3->dvc[gdrive])\n",
      "  Downloading httplib2-0.22.0-py3-none-any.whl.metadata (2.6 kB)\n",
      "Collecting google-auth<3.0.0.dev0,>=1.19.0 (from google-api-python-client>=1.12.5->pydrive2>=1.19.0->pydrive2[fsspec]>=1.19.0->dvc-gdrive<4,>=3->dvc[gdrive])\n",
      "  Downloading google_auth-2.28.0-py2.py3-none-any.whl.metadata (4.7 kB)\n",
      "Collecting google-auth-httplib2>=0.1.0 (from google-api-python-client>=1.12.5->pydrive2>=1.19.0->pydrive2[fsspec]>=1.19.0->dvc-gdrive<4,>=3->dvc[gdrive])\n",
      "  Downloading google_auth_httplib2-0.2.0-py2.py3-none-any.whl.metadata (2.2 kB)\n",
      "Collecting google-api-core!=2.0.*,!=2.1.*,!=2.2.*,!=2.3.0,<3.0.0.dev0,>=1.31.5 (from google-api-python-client>=1.12.5->pydrive2>=1.19.0->pydrive2[fsspec]>=1.19.0->dvc-gdrive<4,>=3->dvc[gdrive])\n",
      "  Downloading google_api_core-2.17.1-py3-none-any.whl.metadata (2.7 kB)\n",
      "Collecting uritemplate<5,>=3.0.1 (from google-api-python-client>=1.12.5->pydrive2>=1.19.0->pydrive2[fsspec]>=1.19.0->dvc-gdrive<4,>=3->dvc[gdrive])\n",
      "  Downloading uritemplate-4.1.1-py2.py3-none-any.whl (10 kB)\n",
      "Collecting pyasn1>=0.1.7 (from oauth2client>=4.0.0->pydrive2>=1.19.0->pydrive2[fsspec]>=1.19.0->dvc-gdrive<4,>=3->dvc[gdrive])\n",
      "  Downloading pyasn1-0.5.1-py2.py3-none-any.whl.metadata (8.6 kB)\n",
      "Collecting pyasn1-modules>=0.0.5 (from oauth2client>=4.0.0->pydrive2>=1.19.0->pydrive2[fsspec]>=1.19.0->dvc-gdrive<4,>=3->dvc[gdrive])\n",
      "  Downloading pyasn1_modules-0.3.0-py2.py3-none-any.whl.metadata (3.6 kB)\n",
      "Collecting rsa>=3.1.4 (from oauth2client>=4.0.0->pydrive2>=1.19.0->pydrive2[fsspec]>=1.19.0->dvc-gdrive<4,>=3->dvc[gdrive])\n",
      "  Downloading rsa-4.9-py3-none-any.whl (34 kB)\n",
      "Collecting googleapis-common-protos<2.0.dev0,>=1.56.2 (from google-api-core!=2.0.*,!=2.1.*,!=2.2.*,!=2.3.0,<3.0.0.dev0,>=1.31.5->google-api-python-client>=1.12.5->pydrive2>=1.19.0->pydrive2[fsspec]>=1.19.0->dvc-gdrive<4,>=3->dvc[gdrive])\n",
      "  Downloading googleapis_common_protos-1.62.0-py2.py3-none-any.whl.metadata (1.5 kB)\n",
      "Collecting protobuf!=3.20.0,!=3.20.1,!=4.21.0,!=4.21.1,!=4.21.2,!=4.21.3,!=4.21.4,!=4.21.5,<5.0.0.dev0,>=3.19.5 (from google-api-core!=2.0.*,!=2.1.*,!=2.2.*,!=2.3.0,<3.0.0.dev0,>=1.31.5->google-api-python-client>=1.12.5->pydrive2>=1.19.0->pydrive2[fsspec]>=1.19.0->dvc-gdrive<4,>=3->dvc[gdrive])\n",
      "  Downloading protobuf-4.25.3-cp310-abi3-win_amd64.whl.metadata (541 bytes)\n",
      "Collecting cachetools<6.0,>=2.0.0 (from google-auth<3.0.0.dev0,>=1.19.0->google-api-python-client>=1.12.5->pydrive2>=1.19.0->pydrive2[fsspec]>=1.19.0->dvc-gdrive<4,>=3->dvc[gdrive])\n",
      "  Downloading cachetools-5.3.2-py3-none-any.whl.metadata (5.2 kB)\n",
      "Requirement already satisfied: wcwidth in c:\\users\\shubh\\appdata\\local\\packages\\pythonsoftwarefoundation.python.3.11_qbz5n2kfra8p0\\localcache\\local-packages\\python311\\site-packages (from prompt-toolkit>=3.0.36->click-repl>=0.2.0->celery<6,>=5.3.0->dvc-task<1,>=0.3.0->dvc[gdrive]) (0.2.6)\n",
      "Downloading dvc_gdrive-3.0.1-py3-none-any.whl (11 kB)\n",
      "Downloading PyDrive2-1.19.0-py3-none-any.whl (46 kB)\n",
      "   ---------------------------------------- 0.0/46.7 kB ? eta -:--:--\n",
      "   ---------------------------------------- 46.7/46.7 kB 2.3 MB/s eta 0:00:00\n",
      "Downloading google_api_python_client-2.118.0-py2.py3-none-any.whl (12.1 MB)\n",
      "   ---------------------------------------- 0.0/12.1 MB ? eta -:--:--\n",
      "   - -------------------------------------- 0.4/12.1 MB 8.3 MB/s eta 0:00:02\n",
      "   ---- ----------------------------------- 1.2/12.1 MB 15.7 MB/s eta 0:00:01\n",
      "   ----- ---------------------------------- 1.5/12.1 MB 12.0 MB/s eta 0:00:01\n",
      "   ------- -------------------------------- 2.2/12.1 MB 12.5 MB/s eta 0:00:01\n",
      "   --------- ------------------------------ 2.8/12.1 MB 12.9 MB/s eta 0:00:01\n",
      "   ---------- ----------------------------- 3.3/12.1 MB 13.2 MB/s eta 0:00:01\n",
      "   -------------- ------------------------- 4.2/12.1 MB 14.3 MB/s eta 0:00:01\n",
      "   --------------- ------------------------ 4.8/12.1 MB 14.0 MB/s eta 0:00:01\n",
      "   ------------------- -------------------- 5.8/12.1 MB 14.7 MB/s eta 0:00:01\n",
      "   --------------------- ------------------ 6.3/12.1 MB 15.0 MB/s eta 0:00:01\n",
      "   ------------------------ --------------- 7.3/12.1 MB 15.0 MB/s eta 0:00:01\n",
      "   -------------------------- ------------- 7.9/12.1 MB 15.2 MB/s eta 0:00:01\n",
      "   ---------------------------- ----------- 8.5/12.1 MB 14.7 MB/s eta 0:00:01\n",
      "   ------------------------------ --------- 9.2/12.1 MB 14.6 MB/s eta 0:00:01\n",
      "   -------------------------------- ------- 9.9/12.1 MB 14.7 MB/s eta 0:00:01\n",
      "   ---------------------------------- ----- 10.5/12.1 MB 14.6 MB/s eta 0:00:01\n",
      "   ------------------------------------ --- 11.1/12.1 MB 14.2 MB/s eta 0:00:01\n",
      "   -------------------------------------- - 11.7/12.1 MB 14.5 MB/s eta 0:00:01\n",
      "   ---------------------------------------  12.1/12.1 MB 14.9 MB/s eta 0:00:01\n",
      "   ---------------------------------------- 12.1/12.1 MB 14.2 MB/s eta 0:00:00\n",
      "Downloading pyOpenSSL-24.0.0-py3-none-any.whl (58 kB)\n",
      "   ---------------------------------------- 0.0/58.6 kB ? eta -:--:--\n",
      "   ---------------------------------------- 58.6/58.6 kB 3.0 MB/s eta 0:00:00\n",
      "Downloading google_api_core-2.17.1-py3-none-any.whl (137 kB)\n",
      "   ---------------------------------------- 0.0/137.0 kB ? eta -:--:--\n",
      "   ---------------------------------------- 137.0/137.0 kB 7.9 MB/s eta 0:00:00\n",
      "Downloading google_auth-2.28.0-py2.py3-none-any.whl (186 kB)\n",
      "   ---------------------------------------- 0.0/186.9 kB ? eta -:--:--\n",
      "   ---------------------------------------- 186.9/186.9 kB 5.7 MB/s eta 0:00:00\n",
      "Downloading google_auth_httplib2-0.2.0-py2.py3-none-any.whl (9.3 kB)\n",
      "Downloading httplib2-0.22.0-py3-none-any.whl (96 kB)\n",
      "   ---------------------------------------- 0.0/96.9 kB ? eta -:--:--\n",
      "   ---------------------------------------- 96.9/96.9 kB 5.4 MB/s eta 0:00:00\n",
      "Downloading pyasn1-0.5.1-py2.py3-none-any.whl (84 kB)\n",
      "   ---------------------------------------- 0.0/84.9 kB ? eta -:--:--\n",
      "   ---------------------------------------- 84.9/84.9 kB 4.7 MB/s eta 0:00:00\n",
      "Downloading pyasn1_modules-0.3.0-py2.py3-none-any.whl (181 kB)\n",
      "   ---------------------------------------- 0.0/181.3 kB ? eta -:--:--\n",
      "   --------------------------------------- 181.3/181.3 kB 11.4 MB/s eta 0:00:00\n",
      "Downloading cachetools-5.3.2-py3-none-any.whl (9.3 kB)\n",
      "Downloading googleapis_common_protos-1.62.0-py2.py3-none-any.whl (228 kB)\n",
      "   ---------------------------------------- 0.0/228.7 kB ? eta -:--:--\n",
      "   --------------------------------------- 228.7/228.7 kB 13.7 MB/s eta 0:00:00\n",
      "Downloading protobuf-4.25.3-cp310-abi3-win_amd64.whl (413 kB)\n",
      "   ---------------------------------------- 0.0/413.4 kB ? eta -:--:--\n",
      "   --------------------------------------- 413.4/413.4 kB 12.6 MB/s eta 0:00:00\n",
      "Installing collected packages: uritemplate, pyasn1, protobuf, httplib2, cachetools, rsa, pyasn1-modules, googleapis-common-protos, pyOpenSSL, oauth2client, google-auth, google-auth-httplib2, google-api-core, google-api-python-client, pydrive2, dvc-gdrive\n",
      "Successfully installed cachetools-5.3.2 dvc-gdrive-3.0.1 google-api-core-2.17.1 google-api-python-client-2.118.0 google-auth-2.28.0 google-auth-httplib2-0.2.0 googleapis-common-protos-1.62.0 httplib2-0.22.0 oauth2client-4.1.3 protobuf-4.25.3 pyOpenSSL-24.0.0 pyasn1-0.5.1 pyasn1-modules-0.3.0 pydrive2-1.19.0 rsa-4.9 uritemplate-4.1.1\n",
      "Note: you may need to restart the kernel to use updated packages.\n"
     ]
    }
   ],
   "source": [
    "pip install dvc[gdrive]"
   ]
  },
  {
   "cell_type": "code",
   "execution_count": 33,
   "metadata": {},
   "outputs": [
    {
     "name": "stdout",
     "output_type": "stream",
     "text": [
      "Setting 'storage' as a default remote.\n"
     ]
    }
   ],
   "source": [
    "!dvc remote add -d storage gdrive://1fr6vBxx6FtVWUfevVd9OcRC2V9fbSQ6D"
   ]
  },
  {
   "cell_type": "code",
   "execution_count": 38,
   "metadata": {},
   "outputs": [
    {
     "name": "stdout",
     "output_type": "stream",
     "text": [
      "C:\\Users\\shubh\\Downloads\\AML_Ass2\\Applied_ML\\Assignment_2\n"
     ]
    }
   ],
   "source": [
    "%cd C:\\Users\\shubh\\Downloads\\AML_Ass2\\Applied_ML\\Assignment_2"
   ]
  },
  {
   "cell_type": "code",
   "execution_count": 39,
   "metadata": {},
   "outputs": [],
   "source": [
    "!git add .dvc/config"
   ]
  },
  {
   "cell_type": "code",
   "execution_count": 40,
   "metadata": {},
   "outputs": [
    {
     "name": "stdout",
     "output_type": "stream",
     "text": [
      "[main 17940cc] Configure Google Drive as DVC remote storage\n",
      " 3 files changed, 10 insertions(+)\n",
      " create mode 100644 Assignment_2/.dvc/.gitignore\n",
      " create mode 100644 Assignment_2/.dvc/config\n",
      " create mode 100644 Assignment_2/.dvcignore\n"
     ]
    }
   ],
   "source": [
    "!git commit -m \"Configure Google Drive as DVC remote storage\""
   ]
  },
  {
   "cell_type": "code",
   "execution_count": 41,
   "metadata": {},
   "outputs": [],
   "source": [
    "import pandas as pd\n",
    "import matplotlib.pyplot as plt\n",
    "from sklearn.model_selection import train_test_split"
   ]
  },
  {
   "cell_type": "code",
   "execution_count": 49,
   "metadata": {},
   "outputs": [],
   "source": [
    "# Load the raw data\n",
    "raw_data=pd.read_csv(\"C:/Users/shubh/Downloads/AML_Ass2/emails.csv\")"
   ]
  },
  {
   "cell_type": "code",
   "execution_count": 50,
   "metadata": {},
   "outputs": [
    {
     "name": "stdout",
     "output_type": "stream",
     "text": [
      "C:\\Users\\shubh\\Downloads\\AML_Ass2\\Applied_ML\\Assignment_2\n"
     ]
    }
   ],
   "source": [
    "%cd C:\\Users\\shubh\\Downloads\\AML_Ass2\\Applied_ML\\Assignment_2"
   ]
  },
  {
   "cell_type": "code",
   "execution_count": 51,
   "metadata": {},
   "outputs": [],
   "source": [
    "# Save the raw data in the 'data' folder\n",
    "raw_data.to_csv('raw_data.csv', index=False)"
   ]
  },
  {
   "cell_type": "code",
   "execution_count": 52,
   "metadata": {},
   "outputs": [],
   "source": [
    "raw_data['text']=raw_data['text'].astype(str)\n",
    "raw_data['spam']=raw_data['spam'].replace({0:\"Ham\",1:\"Spam\"}).astype(\"object\")"
   ]
  },
  {
   "cell_type": "code",
   "execution_count": 53,
   "metadata": {},
   "outputs": [
    {
     "data": {
      "text/html": [
       "<div>\n",
       "<style scoped>\n",
       "    .dataframe tbody tr th:only-of-type {\n",
       "        vertical-align: middle;\n",
       "    }\n",
       "\n",
       "    .dataframe tbody tr th {\n",
       "        vertical-align: top;\n",
       "    }\n",
       "\n",
       "    .dataframe thead th {\n",
       "        text-align: right;\n",
       "    }\n",
       "</style>\n",
       "<table border=\"1\" class=\"dataframe\">\n",
       "  <thead>\n",
       "    <tr style=\"text-align: right;\">\n",
       "      <th></th>\n",
       "      <th>text</th>\n",
       "      <th>spam</th>\n",
       "    </tr>\n",
       "  </thead>\n",
       "  <tbody>\n",
       "    <tr>\n",
       "      <th>0</th>\n",
       "      <td>Subject: naturally irresistible your corporate...</td>\n",
       "      <td>Spam</td>\n",
       "    </tr>\n",
       "    <tr>\n",
       "      <th>1</th>\n",
       "      <td>Subject: the stock trading gunslinger  fanny i...</td>\n",
       "      <td>Spam</td>\n",
       "    </tr>\n",
       "    <tr>\n",
       "      <th>2</th>\n",
       "      <td>Subject: unbelievable new homes made easy  im ...</td>\n",
       "      <td>Spam</td>\n",
       "    </tr>\n",
       "    <tr>\n",
       "      <th>3</th>\n",
       "      <td>Subject: 4 color printing special  request add...</td>\n",
       "      <td>Spam</td>\n",
       "    </tr>\n",
       "    <tr>\n",
       "      <th>4</th>\n",
       "      <td>Subject: do not have money , get software cds ...</td>\n",
       "      <td>Spam</td>\n",
       "    </tr>\n",
       "    <tr>\n",
       "      <th>...</th>\n",
       "      <td>...</td>\n",
       "      <td>...</td>\n",
       "    </tr>\n",
       "    <tr>\n",
       "      <th>5723</th>\n",
       "      <td>Subject: re : research and development charges...</td>\n",
       "      <td>Ham</td>\n",
       "    </tr>\n",
       "    <tr>\n",
       "      <th>5724</th>\n",
       "      <td>Subject: re : receipts from visit  jim ,  than...</td>\n",
       "      <td>Ham</td>\n",
       "    </tr>\n",
       "    <tr>\n",
       "      <th>5725</th>\n",
       "      <td>Subject: re : enron case study update  wow ! a...</td>\n",
       "      <td>Ham</td>\n",
       "    </tr>\n",
       "    <tr>\n",
       "      <th>5726</th>\n",
       "      <td>Subject: re : interest  david ,  please , call...</td>\n",
       "      <td>Ham</td>\n",
       "    </tr>\n",
       "    <tr>\n",
       "      <th>5727</th>\n",
       "      <td>Subject: news : aurora 5 . 2 update  aurora ve...</td>\n",
       "      <td>Ham</td>\n",
       "    </tr>\n",
       "  </tbody>\n",
       "</table>\n",
       "<p>5728 rows × 2 columns</p>\n",
       "</div>"
      ],
      "text/plain": [
       "                                                   text  spam\n",
       "0     Subject: naturally irresistible your corporate...  Spam\n",
       "1     Subject: the stock trading gunslinger  fanny i...  Spam\n",
       "2     Subject: unbelievable new homes made easy  im ...  Spam\n",
       "3     Subject: 4 color printing special  request add...  Spam\n",
       "4     Subject: do not have money , get software cds ...  Spam\n",
       "...                                                 ...   ...\n",
       "5723  Subject: re : research and development charges...   Ham\n",
       "5724  Subject: re : receipts from visit  jim ,  than...   Ham\n",
       "5725  Subject: re : enron case study update  wow ! a...   Ham\n",
       "5726  Subject: re : interest  david ,  please , call...   Ham\n",
       "5727  Subject: news : aurora 5 . 2 update  aurora ve...   Ham\n",
       "\n",
       "[5728 rows x 2 columns]"
      ]
     },
     "execution_count": 53,
     "metadata": {},
     "output_type": "execute_result"
    }
   ],
   "source": [
    "raw_data"
   ]
  },
  {
   "cell_type": "code",
   "execution_count": 54,
   "metadata": {},
   "outputs": [],
   "source": [
    "# Split the data into train, validation, and test sets\n",
    "random_seed=38\n",
    "train_data, temp_data = train_test_split(raw_data, test_size=0.2, random_state=random_seed)\n",
    "validation_data, test_data = train_test_split(temp_data, test_size=0.25, random_state=random_seed)\n",
    "\n",
    "# Save the split data into CSV files\n",
    "train_data.to_csv('train.csv', index=False)\n",
    "validation_data.to_csv('validation.csv', index=False)\n",
    "test_data.to_csv('test.csv', index=False)"
   ]
  },
  {
   "cell_type": "code",
   "execution_count": 55,
   "metadata": {},
   "outputs": [
    {
     "name": "stdout",
     "output_type": "stream",
     "text": [
      "\n",
      "To track the changes with git, run:\n",
      "\n",
      "\tgit add validation.csv.dvc .gitignore raw_data.csv.dvc train.csv.dvc test.csv.dvc\n",
      "\n",
      "To enable auto staging, run:\n",
      "\n",
      "\tdvc config core.autostage true\n"
     ]
    },
    {
     "name": "stderr",
     "output_type": "stream",
     "text": [
      "⠋ Checking graph\n",
      "\n"
     ]
    }
   ],
   "source": [
    "!dvc add raw_data.csv train.csv validation.csv test.csv"
   ]
  },
  {
   "cell_type": "code",
   "execution_count": 56,
   "metadata": {},
   "outputs": [],
   "source": [
    "!git add raw_data.csv.dvc train.csv.dvc validation.csv.dvc test.csv.dvc .gitignore"
   ]
  },
  {
   "cell_type": "code",
   "execution_count": 57,
   "metadata": {},
   "outputs": [
    {
     "name": "stdout",
     "output_type": "stream",
     "text": [
      "[main 31806b2] Tracking data with DVC\n",
      " 5 files changed, 24 insertions(+)\n",
      " create mode 100644 Assignment_2/.gitignore\n",
      " create mode 100644 Assignment_2/raw_data.csv.dvc\n",
      " create mode 100644 Assignment_2/test.csv.dvc\n",
      " create mode 100644 Assignment_2/train.csv.dvc\n",
      " create mode 100644 Assignment_2/validation.csv.dvc\n"
     ]
    }
   ],
   "source": [
    "!git commit -m \"Tracking data with DVC\""
   ]
  },
  {
   "cell_type": "code",
   "execution_count": 58,
   "metadata": {},
   "outputs": [],
   "source": [
    "!dvc config core.autostage true"
   ]
  },
  {
   "cell_type": "code",
   "execution_count": 59,
   "metadata": {},
   "outputs": [
    {
     "name": "stdout",
     "output_type": "stream",
     "text": [
      "Your browser has been opened to visit:\n",
      "\n",
      "    https://accounts.google.com/o/oauth2/auth?client_id=710796635688-iivsgbgsb6uv1fap6635dhvuei09o66c.apps.googleusercontent.com&redirect_uri=http%3A%2F%2Flocalhost%3A8080%2F&scope=https%3A%2F%2Fwww.googleapis.com%2Fauth%2Fdrive+https%3A%2F%2Fwww.googleapis.com%2Fauth%2Fdrive.appdata&access_type=offline&response_type=code&approval_prompt=force\n",
      "\n",
      "Authentication successful.\n",
      "4 files pushed\n"
     ]
    },
    {
     "name": "stderr",
     "output_type": "stream",
     "text": [
      "C:\\Users\\shubh\\AppData\\Local\\Packages\\PythonSoftwareFoundation.Python.3.11_qbz5n2kfra8p0\\LocalCache\\local-packages\\Python311\\site-packages\\oauth2client\\_helpers.py:255: UserWarning: Cannot access C:\\Users\\shubh\\AppData\\Local\\pydrive2fs\\Cache\\710796635688-iivsgbgsb6uv1fap6635dhvuei09o66c.apps.googleusercontent.com\\default.json: No such file or directory\n",
      "  warnings.warn(_MISSING_FILE_MESSAGE.format(filename))\n"
     ]
    }
   ],
   "source": [
    "!dvc push"
   ]
  },
  {
   "cell_type": "code",
   "execution_count": 60,
   "metadata": {},
   "outputs": [
    {
     "name": "stdout",
     "output_type": "stream",
     "text": [
      "C:\\Users\\shubh\\Downloads\\AML_Ass2\\Applied_ML\\Assignment_2\n"
     ]
    }
   ],
   "source": [
    "%cd C:\\Users\\shubh\\Downloads\\AML_Ass2\\Applied_ML\\Assignment_2"
   ]
  },
  {
   "cell_type": "code",
   "execution_count": 61,
   "metadata": {},
   "outputs": [],
   "source": [
    "# Updating the split into train, validation, and test sets with a different seed\n",
    "random_seed=1295\n",
    "train_data, temp_data = train_test_split(raw_data, test_size=0.2, random_state=random_seed)\n",
    "validation_data, test_data = train_test_split(temp_data, test_size=0.25, random_state=random_seed)\n",
    "\n",
    "# Save the split data into CSV files\n",
    "train_data.to_csv('train.csv', index=False)\n",
    "validation_data.to_csv('validation.csv', index=False)\n",
    "test_data.to_csv('test.csv', index=False)"
   ]
  },
  {
   "cell_type": "code",
   "execution_count": 62,
   "metadata": {},
   "outputs": [
    {
     "name": "stderr",
     "output_type": "stream",
     "text": [
      "⠋ Checking graph\n",
      "\n"
     ]
    }
   ],
   "source": [
    "# Adding the updated datasets to DVC\n",
    "!dvc add train.csv validation.csv test.csv"
   ]
  },
  {
   "cell_type": "code",
   "execution_count": 63,
   "metadata": {},
   "outputs": [],
   "source": [
    "!git add train.csv.dvc validation.csv.dvc test.csv.dvc"
   ]
  },
  {
   "cell_type": "code",
   "execution_count": 64,
   "metadata": {},
   "outputs": [
    {
     "name": "stdout",
     "output_type": "stream",
     "text": [
      "[main 8d424bd] Updated data splits with different random seed\n",
      " 3 files changed, 6 insertions(+), 6 deletions(-)\n"
     ]
    }
   ],
   "source": [
    "!git commit -m \"Updated data splits with different random seed\""
   ]
  },
  {
   "cell_type": "code",
   "execution_count": 65,
   "metadata": {},
   "outputs": [
    {
     "name": "stdout",
     "output_type": "stream",
     "text": [
      "3 files pushed\n"
     ]
    }
   ],
   "source": [
    "!dvc push"
   ]
  },
  {
   "cell_type": "code",
   "execution_count": 66,
   "metadata": {},
   "outputs": [
    {
     "name": "stdout",
     "output_type": "stream",
     "text": [
      "commit 8d424bd6e9c3b92e05f66702cb27deb12e38d924\n",
      "Author: ShubhangiSanyal <shubhangi.cmi.ds@gmail.com>\n",
      "Date:   Tue Feb 20 10:17:32 2024 +0530\n",
      "\n",
      "    Updated data splits with different random seed\n",
      "\n",
      "commit 31806b290fd98875266064c25e7cb2acb4eb231b\n",
      "Author: ShubhangiSanyal <shubhangi.cmi.ds@gmail.com>\n",
      "Date:   Tue Feb 20 10:13:00 2024 +0530\n",
      "\n",
      "    Tracking data with DVC\n",
      "\n",
      "commit 17940cc4d8d3fdbd925f4a799d902ce19059e8ba\n",
      "Author: ShubhangiSanyal <shubhangi.cmi.ds@gmail.com>\n",
      "Date:   Tue Feb 20 10:01:54 2024 +0530\n",
      "\n",
      "    Configure Google Drive as DVC remote storage\n",
      "\n",
      "commit 85fff5ce6d5824fca8a59319c50ecf12c292470c\n",
      "Author: Shubhangi Sanyal <116838260+ShubhangiSanyal@users.noreply.github.com>\n",
      "Date:   Mon Feb 5 16:06:04 2024 +0530\n",
      "\n",
      "    Rough work\n",
      "\n",
      "commit ed23532953cbc42c247242cbbc81d65da68723f9\n",
      "Author: Shubhangi Sanyal <116838260+ShubhangiSanyal@users.noreply.github.com>\n",
      "Date:   Mon Feb 5 16:03:50 2024 +0530\n",
      "\n",
      "    All datasets\n",
      "\n",
      "commit 7ef7b8efce96279ef8fabcd8d769ccb4bfeebbf1\n",
      "Author: Shubhangi Sanyal <116838260+ShubhangiSanyal@users.noreply.github.com>\n",
      "Date:   Mon Feb 5 16:02:33 2024 +0530\n",
      "\n",
      "    READ_ME.md\n",
      "\n",
      "commit a8a3bdc3b182f8b49876edc7407fe4bf222ac5ff\n",
      "Author: Shubhangi Sanyal <116838260+ShubhangiSanyal@users.noreply.github.com>\n",
      "Date:   Mon Feb 5 15:58:45 2024 +0530\n",
      "\n",
      "    Part 2\n",
      "    \n",
      "    Some variables have been described in `prepare.ipynb` that have not been described again in this notebook.\n",
      "\n",
      "commit b032da66287517c9802ebff806b98d5b3fa770fe\n",
      "Author: Shubhangi Sanyal <116838260+ShubhangiSanyal@users.noreply.github.com>\n",
      "Date:   Mon Feb 5 15:56:38 2024 +0530\n",
      "\n",
      "    Part 1\n",
      "\n",
      "commit 99431c78f7fb2ec916df612f2f9c9d81bbf4c60e\n",
      "Author: Shubhangi Sanyal <116838260+ShubhangiSanyal@users.noreply.github.com>\n",
      "Date:   Mon Feb 5 15:54:37 2024 +0530\n",
      "\n",
      "    Description\n"
     ]
    }
   ],
   "source": [
    "!git log"
   ]
  },
  {
   "cell_type": "markdown",
   "metadata": {},
   "source": [
    "Checking out the first version (before update) using DVC"
   ]
  },
  {
   "cell_type": "code",
   "execution_count": 76,
   "metadata": {},
   "outputs": [
    {
     "name": "stderr",
     "output_type": "stream",
     "text": [
      "Updated 3 paths from 3f93b88\n"
     ]
    }
   ],
   "source": [
    "!git checkout 31806b290fd98875266064c25e7cb2acb4eb231b train.csv.dvc validation.csv.dvc test.csv.dvc"
   ]
  },
  {
   "cell_type": "code",
   "execution_count": 77,
   "metadata": {},
   "outputs": [
    {
     "name": "stdout",
     "output_type": "stream",
     "text": [
      "M       test.csv\n",
      "M       train.csv\n",
      "M       validation.csv\n"
     ]
    }
   ],
   "source": [
    "!dvc checkout"
   ]
  },
  {
   "cell_type": "code",
   "execution_count": 78,
   "metadata": {},
   "outputs": [
    {
     "name": "stdout",
     "output_type": "stream",
     "text": [
      "Distribution of target variable across datasets:\n",
      "      train.csv  validation.csv  test.csv\n",
      "spam                                     \n",
      "Ham        3487             662       211\n",
      "Spam       1095             197        76\n"
     ]
    }
   ],
   "source": [
    "# Load data into DataFrames\n",
    "train_df = pd.read_csv('train.csv')\n",
    "validation_df = pd.read_csv('validation.csv')\n",
    "test_df = pd.read_csv('test.csv')\n",
    "\n",
    "# Calculate value counts for 'spam' column in each DataFrame\n",
    "train_distribution = train_df['spam'].value_counts()\n",
    "validation_distribution = validation_df['spam'].value_counts()\n",
    "test_distribution = test_df['spam'].value_counts()\n",
    "\n",
    "# Construct table\n",
    "table = pd.DataFrame({\n",
    "    'train.csv': train_distribution,\n",
    "    'validation.csv': validation_distribution,\n",
    "    'test.csv': test_distribution\n",
    "})\n",
    "\n",
    "# Fill missing values with zeros and convert NaNs to 0\n",
    "table = table.fillna(0)\n",
    "\n",
    "# Print table\n",
    "print(\"Distribution of target variable across datasets:\")\n",
    "print(table)\n"
   ]
  },
  {
   "cell_type": "markdown",
   "metadata": {},
   "source": [
    "Checking out the updated version using DVC"
   ]
  },
  {
   "cell_type": "code",
   "execution_count": 79,
   "metadata": {},
   "outputs": [
    {
     "name": "stderr",
     "output_type": "stream",
     "text": [
      "Updated 3 paths from 172645f\n"
     ]
    }
   ],
   "source": [
    "!git checkout 8d424bd6e9c3b92e05f66702cb27deb12e38d924 train.csv.dvc validation.csv.dvc test.csv.dvc"
   ]
  },
  {
   "cell_type": "code",
   "execution_count": 80,
   "metadata": {},
   "outputs": [
    {
     "name": "stdout",
     "output_type": "stream",
     "text": [
      "M       test.csv\n",
      "M       train.csv\n",
      "M       validation.csv\n"
     ]
    }
   ],
   "source": [
    "!dvc checkout"
   ]
  },
  {
   "cell_type": "code",
   "execution_count": 81,
   "metadata": {},
   "outputs": [
    {
     "name": "stdout",
     "output_type": "stream",
     "text": [
      "Distribution of target variable across datasets:\n",
      "      train.csv  validation.csv  test.csv\n",
      "spam                                     \n",
      "Ham        3515             624       221\n",
      "Spam       1067             235        66\n"
     ]
    }
   ],
   "source": [
    "# Load data into DataFrames\n",
    "train_df = pd.read_csv('train.csv')\n",
    "validation_df = pd.read_csv('validation.csv')\n",
    "test_df = pd.read_csv('test.csv')\n",
    "\n",
    "# Calculate value counts for 'spam' column in each DataFrame\n",
    "train_distribution = train_df['spam'].value_counts()\n",
    "validation_distribution = validation_df['spam'].value_counts()\n",
    "test_distribution = test_df['spam'].value_counts()\n",
    "\n",
    "# Construct table\n",
    "table = pd.DataFrame({\n",
    "    'train.csv': train_distribution,\n",
    "    'validation.csv': validation_distribution,\n",
    "    'test.csv': test_distribution\n",
    "})\n",
    "\n",
    "# Fill missing values with zeros and convert NaNs to 0\n",
    "table = table.fillna(0)\n",
    "\n",
    "# Print table\n",
    "print(\"Distribution of target variable across datasets:\")\n",
    "print(table)\n"
   ]
  },
  {
   "cell_type": "code",
   "execution_count": 75,
   "metadata": {},
   "outputs": [
    {
     "name": "stdout",
     "output_type": "stream",
     "text": [
      " Volume in drive C is Windows-SSD\n",
      " Volume Serial Number is 2E30-F245\n",
      "\n",
      " Directory of C:\\Users\\shubh\\Downloads\\AML_Ass2\\Applied_ML\\Assignment_2\n",
      "\n",
      "20-02-2024  10:31    <DIR>          .\n",
      "20-02-2024  09:34    <DIR>          ..\n",
      "20-02-2024  10:10    <DIR>          .dvc\n",
      "20-02-2024  09:34               142 .dvcignore\n",
      "20-02-2024  10:10                55 .gitignore\n",
      "20-02-2024  10:10         8,959,672 raw_data.csv\n",
      "20-02-2024  10:10               100 raw_data.csv.dvc\n",
      "20-02-2024  10:31           407,070 test.csv\n",
      "20-02-2024  10:31                95 test.csv.dvc\n",
      "20-02-2024  10:31         7,182,020 train.csv\n",
      "20-02-2024  10:31                97 train.csv.dvc\n",
      "20-02-2024  10:31         1,383,428 validation.csv\n",
      "20-02-2024  10:31               102 validation.csv.dvc\n",
      "              10 File(s)     17,932,781 bytes\n",
      "               3 Dir(s)  82,475,065,344 bytes free\n"
     ]
    }
   ],
   "source": [
    "%ls"
   ]
  }
 ],
 "metadata": {
  "kernelspec": {
   "display_name": "Python 3",
   "language": "python",
   "name": "python3"
  },
  "language_info": {
   "codemirror_mode": {
    "name": "ipython",
    "version": 3
   },
   "file_extension": ".py",
   "mimetype": "text/x-python",
   "name": "python",
   "nbconvert_exporter": "python",
   "pygments_lexer": "ipython3",
   "version": "3.11.8"
  }
 },
 "nbformat": 4,
 "nbformat_minor": 2
}
