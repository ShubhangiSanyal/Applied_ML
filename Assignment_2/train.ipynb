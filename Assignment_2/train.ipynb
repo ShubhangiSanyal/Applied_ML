{
 "cells": [
  {
   "cell_type": "markdown",
   "metadata": {},
   "source": [
    "# Applied Machine Learning\n",
    "**Assignment 2**<br>\n",
    "Shubhangi Sanyal (MDS202238)"
   ]
  },
  {
   "cell_type": "markdown",
   "metadata": {},
   "source": [
    "## Model version control and experiment tracking"
   ]
  },
  {
   "cell_type": "code",
   "execution_count": 3,
   "metadata": {},
   "outputs": [
    {
     "name": "stdout",
     "output_type": "stream",
     "text": [
      "Collecting mlflow\n",
      "  Downloading mlflow-2.10.2-py3-none-any.whl.metadata (13 kB)\n",
      "Requirement already satisfied: click<9,>=7.0 in c:\\users\\shubh\\appdata\\local\\packages\\pythonsoftwarefoundation.python.3.11_qbz5n2kfra8p0\\localcache\\local-packages\\python311\\site-packages (from mlflow) (8.1.7)\n",
      "Collecting cloudpickle<4 (from mlflow)\n",
      "  Downloading cloudpickle-3.0.0-py3-none-any.whl.metadata (7.0 kB)\n",
      "Requirement already satisfied: entrypoints<1 in c:\\users\\shubh\\appdata\\local\\packages\\pythonsoftwarefoundation.python.3.11_qbz5n2kfra8p0\\localcache\\local-packages\\python311\\site-packages (from mlflow) (0.4)\n",
      "Requirement already satisfied: gitpython<4,>=2.1.0 in c:\\users\\shubh\\appdata\\local\\packages\\pythonsoftwarefoundation.python.3.11_qbz5n2kfra8p0\\localcache\\local-packages\\python311\\site-packages (from mlflow) (3.1.42)\n",
      "Requirement already satisfied: pyyaml<7,>=5.1 in c:\\users\\shubh\\appdata\\local\\packages\\pythonsoftwarefoundation.python.3.11_qbz5n2kfra8p0\\localcache\\local-packages\\python311\\site-packages (from mlflow) (6.0.1)\n",
      "Requirement already satisfied: protobuf<5,>=3.12.0 in c:\\users\\shubh\\appdata\\local\\packages\\pythonsoftwarefoundation.python.3.11_qbz5n2kfra8p0\\localcache\\local-packages\\python311\\site-packages (from mlflow) (4.25.3)\n",
      "Requirement already satisfied: pytz<2024 in c:\\users\\shubh\\appdata\\local\\packages\\pythonsoftwarefoundation.python.3.11_qbz5n2kfra8p0\\localcache\\local-packages\\python311\\site-packages (from mlflow) (2023.3.post1)\n",
      "Requirement already satisfied: requests<3,>=2.17.3 in c:\\users\\shubh\\appdata\\local\\packages\\pythonsoftwarefoundation.python.3.11_qbz5n2kfra8p0\\localcache\\local-packages\\python311\\site-packages (from mlflow) (2.31.0)\n",
      "Requirement already satisfied: packaging<24 in c:\\users\\shubh\\appdata\\local\\packages\\pythonsoftwarefoundation.python.3.11_qbz5n2kfra8p0\\localcache\\local-packages\\python311\\site-packages (from mlflow) (23.2)\n",
      "Collecting importlib-metadata!=4.7.0,<8,>=3.7.0 (from mlflow)\n",
      "  Downloading importlib_metadata-7.0.1-py3-none-any.whl.metadata (4.9 kB)\n",
      "Collecting sqlparse<1,>=0.4.0 (from mlflow)\n",
      "  Downloading sqlparse-0.4.4-py3-none-any.whl.metadata (4.0 kB)\n",
      "Collecting alembic!=1.10.0,<2 (from mlflow)\n",
      "  Downloading alembic-1.13.1-py3-none-any.whl.metadata (7.4 kB)\n",
      "Collecting docker<8,>=4.0.0 (from mlflow)\n",
      "  Downloading docker-7.0.0-py3-none-any.whl.metadata (3.5 kB)\n",
      "Collecting Flask<4 (from mlflow)\n",
      "  Downloading flask-3.0.2-py3-none-any.whl.metadata (3.6 kB)\n",
      "Requirement already satisfied: numpy<2 in c:\\users\\shubh\\appdata\\local\\packages\\pythonsoftwarefoundation.python.3.11_qbz5n2kfra8p0\\localcache\\local-packages\\python311\\site-packages (from mlflow) (1.25.2)\n",
      "Requirement already satisfied: scipy<2 in c:\\users\\shubh\\appdata\\local\\packages\\pythonsoftwarefoundation.python.3.11_qbz5n2kfra8p0\\localcache\\local-packages\\python311\\site-packages (from mlflow) (1.12.0)\n",
      "Requirement already satisfied: pandas<3 in c:\\users\\shubh\\appdata\\local\\packages\\pythonsoftwarefoundation.python.3.11_qbz5n2kfra8p0\\localcache\\local-packages\\python311\\site-packages (from mlflow) (2.1.0)\n",
      "Collecting querystring-parser<2 (from mlflow)\n",
      "  Downloading querystring_parser-1.2.4-py2.py3-none-any.whl (7.9 kB)\n",
      "Requirement already satisfied: sqlalchemy<3,>=1.4.0 in c:\\users\\shubh\\appdata\\local\\packages\\pythonsoftwarefoundation.python.3.11_qbz5n2kfra8p0\\localcache\\local-packages\\python311\\site-packages (from mlflow) (2.0.25)\n",
      "Requirement already satisfied: scikit-learn<2 in c:\\users\\shubh\\appdata\\local\\packages\\pythonsoftwarefoundation.python.3.11_qbz5n2kfra8p0\\localcache\\local-packages\\python311\\site-packages (from mlflow) (1.4.0)\n",
      "Collecting pyarrow<16,>=4.0.0 (from mlflow)\n",
      "  Downloading pyarrow-15.0.0-cp311-cp311-win_amd64.whl.metadata (3.1 kB)\n",
      "Collecting markdown<4,>=3.3 (from mlflow)\n",
      "  Downloading Markdown-3.5.2-py3-none-any.whl.metadata (7.0 kB)\n",
      "Requirement already satisfied: matplotlib<4 in c:\\users\\shubh\\appdata\\local\\packages\\pythonsoftwarefoundation.python.3.11_qbz5n2kfra8p0\\localcache\\local-packages\\python311\\site-packages (from mlflow) (3.8.0)\n",
      "Collecting waitress<3 (from mlflow)\n",
      "  Downloading waitress-2.1.2-py3-none-any.whl (57 kB)\n",
      "     ---------------------------------------- 0.0/57.7 kB ? eta -:--:--\n",
      "     ---------------------------------------- 57.7/57.7 kB 3.2 MB/s eta 0:00:00\n",
      "Collecting Jinja2<4,>=3.0 (from mlflow)\n",
      "  Downloading Jinja2-3.1.3-py3-none-any.whl.metadata (3.3 kB)\n",
      "Collecting Mako (from alembic!=1.10.0,<2->mlflow)\n",
      "  Downloading Mako-1.3.2-py3-none-any.whl.metadata (2.9 kB)\n",
      "Requirement already satisfied: typing-extensions>=4 in c:\\users\\shubh\\appdata\\local\\packages\\pythonsoftwarefoundation.python.3.11_qbz5n2kfra8p0\\localcache\\local-packages\\python311\\site-packages (from alembic!=1.10.0,<2->mlflow) (4.9.0)\n",
      "Requirement already satisfied: colorama in c:\\users\\shubh\\appdata\\local\\packages\\pythonsoftwarefoundation.python.3.11_qbz5n2kfra8p0\\localcache\\local-packages\\python311\\site-packages (from click<9,>=7.0->mlflow) (0.4.6)\n",
      "Requirement already satisfied: urllib3>=1.26.0 in c:\\users\\shubh\\appdata\\local\\packages\\pythonsoftwarefoundation.python.3.11_qbz5n2kfra8p0\\localcache\\local-packages\\python311\\site-packages (from docker<8,>=4.0.0->mlflow) (2.2.0)\n",
      "Requirement already satisfied: pywin32>=304 in c:\\users\\shubh\\appdata\\local\\packages\\pythonsoftwarefoundation.python.3.11_qbz5n2kfra8p0\\localcache\\local-packages\\python311\\site-packages (from docker<8,>=4.0.0->mlflow) (306)\n",
      "Collecting Werkzeug>=3.0.0 (from Flask<4->mlflow)\n",
      "  Downloading werkzeug-3.0.1-py3-none-any.whl.metadata (4.1 kB)\n",
      "Collecting itsdangerous>=2.1.2 (from Flask<4->mlflow)\n",
      "  Downloading itsdangerous-2.1.2-py3-none-any.whl (15 kB)\n",
      "Collecting blinker>=1.6.2 (from Flask<4->mlflow)\n",
      "  Downloading blinker-1.7.0-py3-none-any.whl.metadata (1.9 kB)\n",
      "Requirement already satisfied: gitdb<5,>=4.0.1 in c:\\users\\shubh\\appdata\\local\\packages\\pythonsoftwarefoundation.python.3.11_qbz5n2kfra8p0\\localcache\\local-packages\\python311\\site-packages (from gitpython<4,>=2.1.0->mlflow) (4.0.11)\n",
      "Collecting zipp>=0.5 (from importlib-metadata!=4.7.0,<8,>=3.7.0->mlflow)\n",
      "  Downloading zipp-3.17.0-py3-none-any.whl.metadata (3.7 kB)\n",
      "Collecting MarkupSafe>=2.0 (from Jinja2<4,>=3.0->mlflow)\n",
      "  Downloading MarkupSafe-2.1.5-cp311-cp311-win_amd64.whl.metadata (3.1 kB)\n",
      "Requirement already satisfied: contourpy>=1.0.1 in c:\\users\\shubh\\appdata\\local\\packages\\pythonsoftwarefoundation.python.3.11_qbz5n2kfra8p0\\localcache\\local-packages\\python311\\site-packages (from matplotlib<4->mlflow) (1.1.1)\n",
      "Requirement already satisfied: cycler>=0.10 in c:\\users\\shubh\\appdata\\local\\packages\\pythonsoftwarefoundation.python.3.11_qbz5n2kfra8p0\\localcache\\local-packages\\python311\\site-packages (from matplotlib<4->mlflow) (0.11.0)\n",
      "Requirement already satisfied: fonttools>=4.22.0 in c:\\users\\shubh\\appdata\\local\\packages\\pythonsoftwarefoundation.python.3.11_qbz5n2kfra8p0\\localcache\\local-packages\\python311\\site-packages (from matplotlib<4->mlflow) (4.42.1)\n",
      "Requirement already satisfied: kiwisolver>=1.0.1 in c:\\users\\shubh\\appdata\\local\\packages\\pythonsoftwarefoundation.python.3.11_qbz5n2kfra8p0\\localcache\\local-packages\\python311\\site-packages (from matplotlib<4->mlflow) (1.4.5)\n",
      "Requirement already satisfied: pillow>=6.2.0 in c:\\users\\shubh\\appdata\\local\\packages\\pythonsoftwarefoundation.python.3.11_qbz5n2kfra8p0\\localcache\\local-packages\\python311\\site-packages (from matplotlib<4->mlflow) (10.0.1)\n",
      "Requirement already satisfied: pyparsing>=2.3.1 in c:\\users\\shubh\\appdata\\local\\packages\\pythonsoftwarefoundation.python.3.11_qbz5n2kfra8p0\\localcache\\local-packages\\python311\\site-packages (from matplotlib<4->mlflow) (3.1.1)\n",
      "Requirement already satisfied: python-dateutil>=2.7 in c:\\users\\shubh\\appdata\\local\\packages\\pythonsoftwarefoundation.python.3.11_qbz5n2kfra8p0\\localcache\\local-packages\\python311\\site-packages (from matplotlib<4->mlflow) (2.8.2)\n",
      "Requirement already satisfied: tzdata>=2022.1 in c:\\users\\shubh\\appdata\\local\\packages\\pythonsoftwarefoundation.python.3.11_qbz5n2kfra8p0\\localcache\\local-packages\\python311\\site-packages (from pandas<3->mlflow) (2023.3)\n",
      "Requirement already satisfied: six in c:\\users\\shubh\\appdata\\local\\packages\\pythonsoftwarefoundation.python.3.11_qbz5n2kfra8p0\\localcache\\local-packages\\python311\\site-packages (from querystring-parser<2->mlflow) (1.16.0)\n",
      "Requirement already satisfied: charset-normalizer<4,>=2 in c:\\users\\shubh\\appdata\\local\\packages\\pythonsoftwarefoundation.python.3.11_qbz5n2kfra8p0\\localcache\\local-packages\\python311\\site-packages (from requests<3,>=2.17.3->mlflow) (3.3.2)\n",
      "Requirement already satisfied: idna<4,>=2.5 in c:\\users\\shubh\\appdata\\local\\packages\\pythonsoftwarefoundation.python.3.11_qbz5n2kfra8p0\\localcache\\local-packages\\python311\\site-packages (from requests<3,>=2.17.3->mlflow) (3.6)\n",
      "Requirement already satisfied: certifi>=2017.4.17 in c:\\users\\shubh\\appdata\\local\\packages\\pythonsoftwarefoundation.python.3.11_qbz5n2kfra8p0\\localcache\\local-packages\\python311\\site-packages (from requests<3,>=2.17.3->mlflow) (2024.2.2)\n",
      "Requirement already satisfied: joblib>=1.2.0 in c:\\users\\shubh\\appdata\\local\\packages\\pythonsoftwarefoundation.python.3.11_qbz5n2kfra8p0\\localcache\\local-packages\\python311\\site-packages (from scikit-learn<2->mlflow) (1.3.2)\n",
      "Requirement already satisfied: threadpoolctl>=2.0.0 in c:\\users\\shubh\\appdata\\local\\packages\\pythonsoftwarefoundation.python.3.11_qbz5n2kfra8p0\\localcache\\local-packages\\python311\\site-packages (from scikit-learn<2->mlflow) (3.2.0)\n",
      "Requirement already satisfied: greenlet!=0.4.17 in c:\\users\\shubh\\appdata\\local\\packages\\pythonsoftwarefoundation.python.3.11_qbz5n2kfra8p0\\localcache\\local-packages\\python311\\site-packages (from sqlalchemy<3,>=1.4.0->mlflow) (3.0.3)\n",
      "Requirement already satisfied: smmap<6,>=3.0.1 in c:\\users\\shubh\\appdata\\local\\packages\\pythonsoftwarefoundation.python.3.11_qbz5n2kfra8p0\\localcache\\local-packages\\python311\\site-packages (from gitdb<5,>=4.0.1->gitpython<4,>=2.1.0->mlflow) (5.0.1)\n",
      "Downloading mlflow-2.10.2-py3-none-any.whl (19.5 MB)\n",
      "   ---------------------------------------- 0.0/19.5 MB ? eta -:--:--\n",
      "    --------------------------------------- 0.4/19.5 MB 11.2 MB/s eta 0:00:02\n",
      "   -- ------------------------------------- 1.0/19.5 MB 12.7 MB/s eta 0:00:02\n",
      "   --- ------------------------------------ 1.8/19.5 MB 14.3 MB/s eta 0:00:02\n",
      "   ----- ---------------------------------- 2.5/19.5 MB 13.0 MB/s eta 0:00:02\n",
      "   ------ --------------------------------- 3.0/19.5 MB 13.6 MB/s eta 0:00:02\n",
      "   ------- -------------------------------- 3.6/19.5 MB 13.6 MB/s eta 0:00:02\n",
      "   -------- ------------------------------- 4.3/19.5 MB 13.2 MB/s eta 0:00:02\n",
      "   --------- ------------------------------ 4.8/19.5 MB 12.9 MB/s eta 0:00:02\n",
      "   ----------- ---------------------------- 5.4/19.5 MB 13.2 MB/s eta 0:00:02\n",
      "   ------------ --------------------------- 5.9/19.5 MB 13.1 MB/s eta 0:00:02\n",
      "   ------------- -------------------------- 6.6/19.5 MB 13.1 MB/s eta 0:00:01\n",
      "   -------------- ------------------------- 7.2/19.5 MB 13.2 MB/s eta 0:00:01\n",
      "   ---------------- ----------------------- 7.9/19.5 MB 13.0 MB/s eta 0:00:01\n",
      "   ----------------- ---------------------- 8.6/19.5 MB 13.5 MB/s eta 0:00:01\n",
      "   ------------------- -------------------- 9.3/19.5 MB 13.2 MB/s eta 0:00:01\n",
      "   -------------------- ------------------- 10.1/19.5 MB 13.4 MB/s eta 0:00:01\n",
      "   --------------------- ------------------ 10.7/19.5 MB 13.4 MB/s eta 0:00:01\n",
      "   ----------------------- ---------------- 11.3/19.5 MB 13.6 MB/s eta 0:00:01\n",
      "   ------------------------ --------------- 11.8/19.5 MB 13.4 MB/s eta 0:00:01\n",
      "   ------------------------- -------------- 12.6/19.5 MB 13.4 MB/s eta 0:00:01\n",
      "   --------------------------- ------------ 13.3/19.5 MB 13.4 MB/s eta 0:00:01\n",
      "   ----------------------------- ---------- 14.2/19.5 MB 13.9 MB/s eta 0:00:01\n",
      "   ----------------------------- ---------- 14.5/19.5 MB 13.4 MB/s eta 0:00:01\n",
      "   ------------------------------- -------- 15.2/19.5 MB 13.6 MB/s eta 0:00:01\n",
      "   -------------------------------- ------- 15.9/19.5 MB 13.9 MB/s eta 0:00:01\n",
      "   ---------------------------------- ----- 16.8/19.5 MB 14.2 MB/s eta 0:00:01\n",
      "   ----------------------------------- ---- 17.4/19.5 MB 14.2 MB/s eta 0:00:01\n",
      "   ------------------------------------- -- 18.1/19.5 MB 14.2 MB/s eta 0:00:01\n",
      "   -------------------------------------- - 18.6/19.5 MB 13.9 MB/s eta 0:00:01\n",
      "   ---------------------------------------  19.3/19.5 MB 13.6 MB/s eta 0:00:01\n",
      "   ---------------------------------------  19.5/19.5 MB 14.2 MB/s eta 0:00:01\n",
      "   ---------------------------------------- 19.5/19.5 MB 13.1 MB/s eta 0:00:00\n",
      "Downloading alembic-1.13.1-py3-none-any.whl (233 kB)\n",
      "   ---------------------------------------- 0.0/233.4 kB ? eta -:--:--\n",
      "   ---------------------------------------- 233.4/233.4 kB 7.2 MB/s eta 0:00:00\n",
      "Downloading cloudpickle-3.0.0-py3-none-any.whl (20 kB)\n",
      "Downloading docker-7.0.0-py3-none-any.whl (147 kB)\n",
      "   ---------------------------------------- 0.0/147.6 kB ? eta -:--:--\n",
      "   ---------------------------------------- 147.6/147.6 kB 9.2 MB/s eta 0:00:00\n",
      "Downloading flask-3.0.2-py3-none-any.whl (101 kB)\n",
      "   ---------------------------------------- 0.0/101.3 kB ? eta -:--:--\n",
      "   ---------------------------------------- 101.3/101.3 kB ? eta 0:00:00\n",
      "Downloading importlib_metadata-7.0.1-py3-none-any.whl (23 kB)\n",
      "Downloading Jinja2-3.1.3-py3-none-any.whl (133 kB)\n",
      "   ---------------------------------------- 0.0/133.2 kB ? eta -:--:--\n",
      "   ---------------------------------------- 133.2/133.2 kB 8.2 MB/s eta 0:00:00\n",
      "Downloading Markdown-3.5.2-py3-none-any.whl (103 kB)\n",
      "   ---------------------------------------- 0.0/103.9 kB ? eta -:--:--\n",
      "   ---------------------------------------- 103.9/103.9 kB 6.2 MB/s eta 0:00:00\n",
      "Downloading pyarrow-15.0.0-cp311-cp311-win_amd64.whl (24.8 MB)\n",
      "   ---------------------------------------- 0.0/24.8 MB ? eta -:--:--\n",
      "    --------------------------------------- 0.6/24.8 MB 18.5 MB/s eta 0:00:02\n",
      "   - -------------------------------------- 1.2/24.8 MB 13.2 MB/s eta 0:00:02\n",
      "   --- ------------------------------------ 1.9/24.8 MB 13.8 MB/s eta 0:00:02\n",
      "   --- ------------------------------------ 2.5/24.8 MB 14.2 MB/s eta 0:00:02\n",
      "   ---- ----------------------------------- 2.9/24.8 MB 13.4 MB/s eta 0:00:02\n",
      "   ----- ---------------------------------- 3.7/24.8 MB 13.8 MB/s eta 0:00:02\n",
      "   ------ --------------------------------- 4.3/24.8 MB 13.2 MB/s eta 0:00:02\n",
      "   -------- ------------------------------- 5.2/24.8 MB 13.8 MB/s eta 0:00:02\n",
      "   --------- ------------------------------ 5.9/24.8 MB 14.0 MB/s eta 0:00:02\n",
      "   ---------- ----------------------------- 6.5/24.8 MB 14.0 MB/s eta 0:00:02\n",
      "   ----------- ---------------------------- 7.1/24.8 MB 13.8 MB/s eta 0:00:02\n",
      "   ------------ --------------------------- 7.9/24.8 MB 13.6 MB/s eta 0:00:02\n",
      "   ------------- -------------------------- 8.6/24.8 MB 13.7 MB/s eta 0:00:02\n",
      "   -------------- ------------------------- 9.3/24.8 MB 13.8 MB/s eta 0:00:02\n",
      "   ---------------- ----------------------- 10.0/24.8 MB 13.9 MB/s eta 0:00:02\n",
      "   ----------------- ---------------------- 10.6/24.8 MB 13.6 MB/s eta 0:00:02\n",
      "   ------------------ --------------------- 11.2/24.8 MB 13.6 MB/s eta 0:00:01\n",
      "   ------------------- -------------------- 11.9/24.8 MB 14.2 MB/s eta 0:00:01\n",
      "   -------------------- ------------------- 12.7/24.8 MB 13.9 MB/s eta 0:00:01\n",
      "   --------------------- ------------------ 13.5/24.8 MB 14.2 MB/s eta 0:00:01\n",
      "   ---------------------- ----------------- 14.1/24.8 MB 14.2 MB/s eta 0:00:01\n",
      "   ------------------------ --------------- 14.9/24.8 MB 14.2 MB/s eta 0:00:01\n",
      "   ------------------------- -------------- 15.6/24.8 MB 14.2 MB/s eta 0:00:01\n",
      "   -------------------------- ------------- 16.3/24.8 MB 13.9 MB/s eta 0:00:01\n",
      "   --------------------------- ------------ 16.9/24.8 MB 14.2 MB/s eta 0:00:01\n",
      "   ---------------------------- ----------- 17.5/24.8 MB 14.2 MB/s eta 0:00:01\n",
      "   ----------------------------- ---------- 18.0/24.8 MB 14.2 MB/s eta 0:00:01\n",
      "   ------------------------------ --------- 18.7/24.8 MB 13.9 MB/s eta 0:00:01\n",
      "   ------------------------------- -------- 19.3/24.8 MB 14.2 MB/s eta 0:00:01\n",
      "   -------------------------------- ------- 19.9/24.8 MB 13.9 MB/s eta 0:00:01\n",
      "   --------------------------------- ------ 20.6/24.8 MB 13.6 MB/s eta 0:00:01\n",
      "   ---------------------------------- ----- 21.2/24.8 MB 13.9 MB/s eta 0:00:01\n",
      "   ----------------------------------- ---- 22.0/24.8 MB 13.9 MB/s eta 0:00:01\n",
      "   ------------------------------------ --- 22.6/24.8 MB 13.4 MB/s eta 0:00:01\n",
      "   ------------------------------------- -- 23.2/24.8 MB 13.4 MB/s eta 0:00:01\n",
      "   -------------------------------------- - 23.8/24.8 MB 13.4 MB/s eta 0:00:01\n",
      "   ---------------------------------------  24.5/24.8 MB 13.4 MB/s eta 0:00:01\n",
      "   ---------------------------------------  24.8/24.8 MB 13.4 MB/s eta 0:00:01\n",
      "   ---------------------------------------- 24.8/24.8 MB 12.1 MB/s eta 0:00:00\n",
      "Downloading sqlparse-0.4.4-py3-none-any.whl (41 kB)\n",
      "   ---------------------------------------- 0.0/41.2 kB ? eta -:--:--\n",
      "   ---------------------------------------- 41.2/41.2 kB 1.9 MB/s eta 0:00:00\n",
      "Downloading blinker-1.7.0-py3-none-any.whl (13 kB)\n",
      "Downloading MarkupSafe-2.1.5-cp311-cp311-win_amd64.whl (17 kB)\n",
      "Downloading werkzeug-3.0.1-py3-none-any.whl (226 kB)\n",
      "   ---------------------------------------- 0.0/226.7 kB ? eta -:--:--\n",
      "   --------------------------------------- 226.7/226.7 kB 13.5 MB/s eta 0:00:00\n",
      "Downloading zipp-3.17.0-py3-none-any.whl (7.4 kB)\n",
      "Downloading Mako-1.3.2-py3-none-any.whl (78 kB)\n",
      "   ---------------------------------------- 0.0/78.7 kB ? eta -:--:--\n",
      "   ---------------------------------------- 78.7/78.7 kB 4.3 MB/s eta 0:00:00\n",
      "Installing collected packages: zipp, waitress, sqlparse, querystring-parser, pyarrow, MarkupSafe, markdown, itsdangerous, cloudpickle, blinker, Werkzeug, Mako, Jinja2, importlib-metadata, docker, Flask, alembic, mlflow\n",
      "Successfully installed Flask-3.0.2 Jinja2-3.1.3 Mako-1.3.2 MarkupSafe-2.1.5 Werkzeug-3.0.1 alembic-1.13.1 blinker-1.7.0 cloudpickle-3.0.0 docker-7.0.0 importlib-metadata-7.0.1 itsdangerous-2.1.2 markdown-3.5.2 mlflow-2.10.2 pyarrow-15.0.0 querystring-parser-1.2.4 sqlparse-0.4.4 waitress-2.1.2 zipp-3.17.0\n"
     ]
    }
   ],
   "source": [
    "!pip install mlflow"
   ]
  },
  {
   "cell_type": "code",
   "execution_count": 4,
   "metadata": {},
   "outputs": [],
   "source": [
    "import pandas as pd"
   ]
  },
  {
   "cell_type": "code",
   "execution_count": 1,
   "metadata": {},
   "outputs": [
    {
     "name": "stdout",
     "output_type": "stream",
     "text": [
      "C:\\Users\\shubh\\Downloads\\AML_Ass2\\Applied_ML\\Assignment_2\n"
     ]
    }
   ],
   "source": [
    "%cd C:\\Users\\shubh\\Downloads\\AML_Ass2\\Applied_ML\\Assignment_2"
   ]
  },
  {
   "cell_type": "markdown",
   "metadata": {},
   "source": [
    "Loading the train, validation, and test datasets"
   ]
  },
  {
   "cell_type": "code",
   "execution_count": 5,
   "metadata": {},
   "outputs": [],
   "source": [
    "train = pd.read_csv('train.csv')\n",
    "val = pd.read_csv('validation.csv')\n",
    "test = pd.read_csv('test.csv')"
   ]
  },
  {
   "cell_type": "code",
   "execution_count": 9,
   "metadata": {},
   "outputs": [],
   "source": [
    "# Separating into text and label\n",
    "X_train = train['text']\n",
    "y_train = train['spam']\n",
    "X_val = val['text']\n",
    "y_val = val['spam']\n",
    "X_test = test['text']\n",
    "y_test = test['spam']"
   ]
  },
  {
   "cell_type": "code",
   "execution_count": 20,
   "metadata": {},
   "outputs": [],
   "source": [
    "label_mapping = {'Spam': 1, 'Ham': 0}\n",
    "y_train = y_train.replace(label_mapping)\n",
    "y_val = y_val.replace(label_mapping)\n",
    "y_test = y_test.replace(label_mapping)"
   ]
  },
  {
   "cell_type": "code",
   "execution_count": 10,
   "metadata": {},
   "outputs": [],
   "source": [
    "from sklearn.feature_extraction.text import TfidfVectorizer\n",
    "from sklearn.naive_bayes import BernoulliNB\n",
    "from sklearn.ensemble import RandomForestClassifier\n",
    "from sklearn.svm import SVC\n",
    "from sklearn.pipeline import Pipeline\n",
    "from sklearn.metrics import accuracy_score, classification_report, average_precision_score\n",
    "import mlflow\n",
    "import mlflow.sklearn\n",
    "from mlflow.tracking import MlflowClient"
   ]
  },
  {
   "cell_type": "code",
   "execution_count": 28,
   "metadata": {},
   "outputs": [],
   "source": [
    "def train_and_log_model(model_name, X_train, y_train, X_val, y_val, params={},tags={}):\n",
    "    with mlflow.start_run(run_name=model_name):\n",
    "        # model pipeline\n",
    "        if model_name == 'Random_Forest':\n",
    "            model = Pipeline([\n",
    "                ('tfidf', TfidfVectorizer(stop_words='english')),\n",
    "                ('clf', RandomForestClassifier(random_state=42, **params))\n",
    "            ])\n",
    "        elif model_name == 'Bernoulli_Naive_Bayes':\n",
    "            model = Pipeline([\n",
    "                ('tfidf', TfidfVectorizer(stop_words='english')),\n",
    "                ('clf', BernoulliNB(**params))\n",
    "            ])\n",
    "        elif model_name == 'Support_Vector_Machine':\n",
    "            model = Pipeline([\n",
    "                ('tfidf', TfidfVectorizer(stop_words='english')),\n",
    "                ('clf', SVC(random_state=42, probability=True, **params))\n",
    "            ])\n",
    "        else:\n",
    "            raise ValueError(\"Model name not recognized.\")\n",
    "        \n",
    "        # Training the model\n",
    "        model.fit(X_train, y_train)\n",
    "\n",
    "        # Evaluating the model on validation dataset\n",
    "        y_pred_val = model.predict(X_val)\n",
    "        accuracy = accuracy_score(y_val, y_pred_val)\n",
    "        aucpr = average_precision_score(y_val, model.predict_proba(X_val)[:, 1])\n",
    "\n",
    "        # Logging parameters, metrics, and model\n",
    "        mlflow.log_params(params)\n",
    "        mlflow.log_metric(\"accuracy\", accuracy)\n",
    "        mlflow.log_metric(\"aucpr\", aucpr)\n",
    "        mlflow.sklearn.log_model(model, f\"model_{model_name}\")\n",
    "        \n",
    "        # Registering the model\n",
    "        mlflow.sklearn.log_model(model, f\"model_{model_name}\")\n",
    "\n",
    "        # Run ID\n",
    "        run_id = mlflow.active_run().info.run_id\n",
    "\n",
    "        # model name in the MLflow Model Registry\n",
    "        client = MlflowClient()\n",
    "        try:\n",
    "            client.create_registered_model(model_name)\n",
    "        except Exception as e:\n",
    "            print(f\"Model {model_name} already exists in the registry.\")\n",
    "\n",
    "        # Creating a new version of the model in the registry\n",
    "        model_uri = f\"runs:/{run_id}/model_{model_name}\"\n",
    "        model_version_info = client.create_model_version(model_name, model_uri, run_id)\n",
    "\n",
    "        # Adding tags to the model version\n",
    "        tags['Created by'] = 'Shubhangi' \n",
    "        for tag_key, tag_value in tags.items():\n",
    "            client.set_model_version_tag(\n",
    "                model_name,\n",
    "                model_version_info.version,\n",
    "                tag_key,\n",
    "                tag_value\n",
    "            )\n",
    "\n",
    "        print(f\"Model {model_name}, version {model_version_info.version} registered in the MLflow Model Registry with tags {tags}.\")\n",
    "        print(f\"Model: {model_name}, Accuracy: {accuracy}, AUCPR: {aucpr}\")"
   ]
  },
  {
   "cell_type": "markdown",
   "metadata": {},
   "source": [
    "Starting MLFlow Experiment"
   ]
  },
  {
   "cell_type": "code",
   "execution_count": 12,
   "metadata": {},
   "outputs": [
    {
     "name": "stderr",
     "output_type": "stream",
     "text": [
      "2024/02/20 12:11:14 INFO mlflow.tracking.fluent: Experiment with name 'Email Spam-Ham Classification' does not exist. Creating a new experiment.\n"
     ]
    },
    {
     "data": {
      "text/plain": [
       "<Experiment: artifact_location='file:///C:/Users/shubh/Downloads/AML_Ass2/Applied_ML/Assignment_2/mlruns/584957309804862089', creation_time=1708411274224, experiment_id='584957309804862089', last_update_time=1708411274224, lifecycle_stage='active', name='Email Spam-Ham Classification', tags={}>"
      ]
     },
     "execution_count": 12,
     "metadata": {},
     "output_type": "execute_result"
    }
   ],
   "source": [
    "# Experiment name\n",
    "mlflow.set_experiment(\"Email Spam-Ham Classification\")"
   ]
  },
  {
   "cell_type": "code",
   "execution_count": 13,
   "metadata": {},
   "outputs": [],
   "source": [
    "tags = {\n",
    "    \"Review\": \"Passed\",\n",
    "    \"Ready for Deployment\": \"Yes\"\n",
    "}"
   ]
  },
  {
   "cell_type": "code",
   "execution_count": 24,
   "metadata": {},
   "outputs": [],
   "source": [
    "import warnings\n",
    "warnings.filterwarnings('ignore')"
   ]
  },
  {
   "cell_type": "code",
   "execution_count": 29,
   "metadata": {},
   "outputs": [
    {
     "name": "stdout",
     "output_type": "stream",
     "text": [
      "Model Random_Forest already exists in the registry.\n",
      "Model Random_Forest, version 4 registered in the MLflow Model Registry with tags {'Created by': 'Shubhangi'}.\n",
      "Model: Random_Forest, Accuracy: 0.9813736903376019, AUCPR: 0.9984828841061683\n",
      "Model Bernoulli_Naive_Bayes already exists in the registry.\n",
      "Model Bernoulli_Naive_Bayes, version 3 registered in the MLflow Model Registry with tags {'Created by': 'Shubhangi'}.\n",
      "Model: Bernoulli_Naive_Bayes, Accuracy: 0.989522700814901, AUCPR: 0.9987744233703195\n",
      "Model Support_Vector_Machine, version 1 registered in the MLflow Model Registry with tags {'Created by': 'Shubhangi'}.\n",
      "Model: Support_Vector_Machine, Accuracy: 0.9918509895227008, AUCPR: 0.9996168860860241\n"
     ]
    }
   ],
   "source": [
    "# Training and logging models\n",
    "model_names = ['Random_Forest', 'Bernoulli_Naive_Bayes', 'Support_Vector_Machine']\n",
    "for model_name in model_names:\n",
    "    train_and_log_model(model_name, X_train, y_train, X_val, y_val)"
   ]
  },
  {
   "cell_type": "code",
   "execution_count": 30,
   "metadata": {},
   "outputs": [
    {
     "name": "stdout",
     "output_type": "stream",
     "text": [
      "^C\n"
     ]
    }
   ],
   "source": [
    "\"\"\"\n",
    "Viewing results of all versions of the models in the mlflow user interface\n",
    "http://localhost:5000/\n",
    "\"\"\"\n",
    "! mlflow ui"
   ]
  },
  {
   "cell_type": "markdown",
   "metadata": {},
   "source": [
    "Evaluating final model on test dataset"
   ]
  },
  {
   "cell_type": "code",
   "execution_count": 33,
   "metadata": {},
   "outputs": [],
   "source": [
    "# Chosen model after comparing results stored in the user interface\n",
    "model_name = \"Support_Vector_Machine\" \n",
    "model_version = \"1\"  "
   ]
  },
  {
   "cell_type": "code",
   "execution_count": 34,
   "metadata": {},
   "outputs": [],
   "source": [
    "model_uri = f\"models:/{model_name}/{model_version}\"\n",
    "model = mlflow.sklearn.load_model(model_uri)"
   ]
  },
  {
   "cell_type": "code",
   "execution_count": 35,
   "metadata": {},
   "outputs": [],
   "source": [
    "# Use the loaded model to make predictions on the test dataset\n",
    "y_pred = model.predict(X_test)\n",
    "\n",
    "# Calculate metrics on the test dataset\n",
    "accuracy = accuracy_score(y_test, y_pred)\n",
    "aucpr = average_precision_score(y_test, model.predict_proba(X_test)[:, 1])"
   ]
  },
  {
   "cell_type": "code",
   "execution_count": 36,
   "metadata": {},
   "outputs": [
    {
     "name": "stdout",
     "output_type": "stream",
     "text": [
      "Accuracy on test dataset: 0.9965156794425087\n",
      "AUCPR on test dataset: 0.999554367201426\n"
     ]
    }
   ],
   "source": [
    "# Print out the metrics\n",
    "print(f\"Accuracy on test dataset: {accuracy}\")\n",
    "print(f\"AUCPR on test dataset: {aucpr}\")"
   ]
  }
 ],
 "metadata": {
  "kernelspec": {
   "display_name": "Python 3",
   "language": "python",
   "name": "python3"
  },
  "language_info": {
   "codemirror_mode": {
    "name": "ipython",
    "version": 3
   },
   "file_extension": ".py",
   "mimetype": "text/x-python",
   "name": "python",
   "nbconvert_exporter": "python",
   "pygments_lexer": "ipython3",
   "version": "3.11.8"
  }
 },
 "nbformat": 4,
 "nbformat_minor": 2
}
